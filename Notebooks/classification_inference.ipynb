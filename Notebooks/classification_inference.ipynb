{
 "cells": [
  {
   "cell_type": "code",
   "execution_count": 2,
   "metadata": {},
   "outputs": [
    {
     "name": "stdout",
     "output_type": "stream",
     "text": [
      "Loaded pretrained weights for efficientnet-b0\n"
     ]
    },
    {
     "name": "stderr",
     "output_type": "stream",
     "text": [
      "/tmp/ipykernel_3547/2831277396.py:48: FutureWarning: You are using `torch.load` with `weights_only=False` (the current default value), which uses the default pickle module implicitly. It is possible to construct malicious pickle data which will execute arbitrary code during unpickling (See https://github.com/pytorch/pytorch/blob/main/SECURITY.md#untrusted-models for more details). In a future release, the default value for `weights_only` will be flipped to `True`. This limits the functions that could be executed during unpickling. Arbitrary objects will no longer be allowed to be loaded via this mode unless they are explicitly allowlisted by the user via `torch.serialization.add_safe_globals`. We recommend you start setting `weights_only=True` for any use case where you don't have full control of the loaded file. Please open an issue on GitHub for any issues related to this experimental feature.\n",
      "  model.load_state_dict(torch.load('/mnt/c/Users/Rahul/Desktop/Document-and-Record-Management/notebooks/document_classifier.pth', map_location=device))\n"
     ]
    },
    {
     "name": "stdout",
     "output_type": "stream",
     "text": [
      "Predicted class: 0\n",
      "Class probabilities: [[1.0000000e+00 9.6527951e-20 7.5662624e-18]]\n"
     ]
    }
   ],
   "source": [
    "import torch\n",
    "import torch.nn as nn\n",
    "from torchvision import transforms\n",
    "from PIL import Image\n",
    "from efficientnet_pytorch import EfficientNet\n",
    "\n",
    "# 1. Define the DocumentClassifier model architecture\n",
    "class DocumentClassifier(nn.Module):\n",
    "    def __init__(self, num_classes=3):\n",
    "        super(DocumentClassifier, self).__init__()\n",
    "        \n",
    "        # EfficientNet backbone\n",
    "        self.backbone = EfficientNet.from_pretrained('efficientnet-b0')\n",
    "        \n",
    "        # Global average pooling\n",
    "        self.global_pool = nn.AdaptiveAvgPool2d(1)\n",
    "        \n",
    "        # Classifier head\n",
    "        num_features = self.backbone._fc.in_features\n",
    "        self.classifier = nn.Sequential(\n",
    "            nn.Linear(num_features, 256),\n",
    "            nn.ReLU(),\n",
    "            nn.Dropout(0.3),\n",
    "            nn.Linear(256, num_classes),\n",
    "            nn.Softmax(dim=1)\n",
    "        )\n",
    "    \n",
    "    def forward(self, x):\n",
    "        # Extract features using the backbone\n",
    "        x = self.backbone.extract_features(x)\n",
    "        \n",
    "        # Global average pooling\n",
    "        x = self.global_pool(x)\n",
    "        \n",
    "        # Flatten the output tensor\n",
    "        x = x.view(x.size(0), -1)\n",
    "        \n",
    "        # Classifier\n",
    "        x = self.classifier(x)\n",
    "        \n",
    "        return x\n",
    "\n",
    "# 2. Load the model\n",
    "device = torch.device('cuda' if torch.cuda.is_available() else 'cpu')\n",
    "\n",
    "# Instantiate the model and load the state dict\n",
    "model = DocumentClassifier(num_classes=3)\n",
    "model.load_state_dict(torch.load('/mnt/c/Users/Rahul/Desktop/Document-and-Record-Management/notebooks/document_classifier.pth', map_location=device))\n",
    "\n",
    "# Move the model to the appropriate device\n",
    "model.to(device)\n",
    "\n",
    "# Set the model to evaluation mode\n",
    "model.eval()\n",
    "\n",
    "# 3. Preprocess the input image\n",
    "transform = transforms.Compose([\n",
    "    transforms.Resize((224, 224)),  # Resize the image to the input size expected by EfficientNet\n",
    "    transforms.ToTensor(),           # Convert image to PyTorch tensor\n",
    "    transforms.Normalize(mean=[0.485, 0.456, 0.406], std=[0.229, 0.224, 0.225])  # Normalize based on ImageNet stats\n",
    "])\n",
    "\n",
    "# Load your image\n",
    "image_path = '/mnt/c/Users/Rahul/Desktop/aayush.jpg'\n",
    "image = Image.open(image_path)\n",
    "\n",
    "# Preprocess the image\n",
    "image = transform(image).unsqueeze(0).to(device)  # Add batch dimension and move to the device\n",
    "\n",
    "# 4. Perform inference\n",
    "with torch.no_grad():  # Disable gradient calculation for inference\n",
    "    output = model(image)\n",
    "\n",
    "# 5. Process the output\n",
    "# The output is a probability distribution over the classes\n",
    "predicted_probabilities = output.cpu().numpy()\n",
    "\n",
    "# Get the predicted class\n",
    "predicted_class = torch.argmax(output, dim=1).item()\n",
    "\n",
    "print(f'Predicted class: {predicted_class}')\n",
    "print(f'Class probabilities: {predicted_probabilities}')\n"
   ]
  },
  {
   "cell_type": "code",
   "execution_count": null,
   "metadata": {},
   "outputs": [],
   "source": []
  }
 ],
 "metadata": {
  "kernelspec": {
   "display_name": "docmgmt",
   "language": "python",
   "name": "python3"
  },
  "language_info": {
   "codemirror_mode": {
    "name": "ipython",
    "version": 3
   },
   "file_extension": ".py",
   "mimetype": "text/x-python",
   "name": "python",
   "nbconvert_exporter": "python",
   "pygments_lexer": "ipython3",
   "version": "3.10.14"
  }
 },
 "nbformat": 4,
 "nbformat_minor": 2
}
