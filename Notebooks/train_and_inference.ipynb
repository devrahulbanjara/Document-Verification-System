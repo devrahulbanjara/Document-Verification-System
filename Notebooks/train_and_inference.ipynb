{
 "cells": [
  {
   "cell_type": "code",
   "execution_count": null,
   "metadata": {},
   "outputs": [],
   "source": [
    "from ultralytics import YOLO\n",
    "model = YOLO(\"/mnt/c/Users/Rahul/Desktop/Document-and-Record-Management/pretrained models/License_bestmodel.pt\")"
   ]
  },
  {
   "cell_type": "code",
   "execution_count": null,
   "metadata": {},
   "outputs": [],
   "source": [
    "model.train(\n",
    "    data=\"/mnt/c/Users/Rahul/Desktop/Document-and-Record-Management/notebooks/data/data.yaml\",\n",
    "    epochs=100\n",
    ")"
   ]
  },
  {
   "cell_type": "code",
   "execution_count": null,
   "metadata": {},
   "outputs": [],
   "source": [
    "yolo = YOLO(\"/mnt/c/Users/Rahul/Desktop/Document-and-Record-Management/YOLOv8/runs/detect/train/weights/best.pt\"); yolo.predict(source=\"/mnt/c/Users/Rahul/Desktop/Document-and-Record-Management/YOLOv8/pratikshya.jpg\", save=True)"
   ]
  },
  {
   "cell_type": "code",
   "execution_count": null,
   "metadata": {},
   "outputs": [],
   "source": [
    "# model = YOLO(\"\")\n",
    "# results = model('/mnt/c/Users/Rahul/Desktop/Document-and-Record-Management/YOLOv8/Susmita Malla front.jpg')\n",
    "\n",
    "# # Extract the coordinates, class IDs, and confidence scores\n",
    "# for result in results:\n",
    "#     boxes = result.boxes.xyxy  # x1, y1, x2, y2 (top-left and bottom-right corner coordinates)\n",
    "#     scores = result.boxes.conf  # Confidence scores\n",
    "#     class_ids = result.boxes.cls  # Class IDs\n",
    "\n",
    "#     for box, score, class_id in zip(boxes, scores, class_ids):\n",
    "#         x1, y1, x2, y2 = box.tolist()  # Convert to list to get the values\n",
    "#         print(f\"Class ID: {class_id}, Confidence: {score}, Coordinates: ({x1}, {y1}), ({x2}, {y2})\")"
   ]
  },
  {
   "cell_type": "code",
   "execution_count": null,
   "metadata": {},
   "outputs": [],
   "source": []
  },
  {
   "cell_type": "code",
   "execution_count": null,
   "metadata": {},
   "outputs": [],
   "source": []
  }
 ],
 "metadata": {
  "kernelspec": {
   "display_name": "cnnlocalizer",
   "language": "python",
   "name": "python3"
  },
  "language_info": {
   "codemirror_mode": {
    "name": "ipython",
    "version": 3
   },
   "file_extension": ".py",
   "mimetype": "text/x-python",
   "name": "python",
   "nbconvert_exporter": "python",
   "pygments_lexer": "ipython3",
   "version": "3.10.14"
  }
 },
 "nbformat": 4,
 "nbformat_minor": 2
}
