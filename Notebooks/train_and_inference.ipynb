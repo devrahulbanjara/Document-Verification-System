{
 "cells": [
  {
   "cell_type": "code",
   "execution_count": null,
   "metadata": {},
   "outputs": [],
   "source": [
    "from ultralytics import YOLO\n",
    "model = YOLO(\"/mnt/c/Users/Rahul/Desktop/Document-and-Record-Management/pretrained models/citizenship_on_synthetic/detect/train/weights/best.pt\")"
   ]
  },
  {
   "cell_type": "code",
   "execution_count": null,
   "metadata": {},
   "outputs": [],
   "source": [
    "model.train(\n",
    "    data=\"/mnt/c/Users/Rahul/Desktop/Document-and-Record-Management/YOLOv8/data/data.yaml\",\n",
    "    epochs=100\n",
    ")"
   ]
  },
  {
   "cell_type": "code",
   "execution_count": null,
   "metadata": {},
   "outputs": [],
   "source": [
    "yolo = YOLO(\"/mnt/c/Users/Rahul/Desktop/Document-and-Record-Management/YOLOv8/runs/detect/train/weights/best.pt\"); yolo.predict(source=\"/mnt/c/Users/Rahul/Desktop/Document-and-Record-Management/YOLOv8/pratikshya.jpg\", save=True)"
   ]
  },
  {
   "cell_type": "code",
   "execution_count": null,
   "metadata": {},
   "outputs": [],
   "source": [
    "# model = YOLO(\"\")\n",
    "# results = model('/mnt/c/Users/Rahul/Desktop/Document-and-Record-Management/YOLOv8/Susmita Malla front.jpg')\n",
    "\n",
    "# # Extract the coordinates, class IDs, and confidence scores\n",
    "# for result in results:\n",
    "#     boxes = result.boxes.xyxy  # x1, y1, x2, y2 (top-left and bottom-right corner coordinates)\n",
    "#     scores = result.boxes.conf  # Confidence scores\n",
    "#     class_ids = result.boxes.cls  # Class IDs\n",
    "\n",
    "#     for box, score, class_id in zip(boxes, scores, class_ids):\n",
    "#         x1, y1, x2, y2 = box.tolist()  # Convert to list to get the values\n",
    "#         print(f\"Class ID: {class_id}, Confidence: {score}, Coordinates: ({x1}, {y1}), ({x2}, {y2})\")"
   ]
  },
  {
   "cell_type": "code",
   "execution_count": null,
   "metadata": {},
   "outputs": [],
   "source": [
    "# import cv2\n",
    "# from ultralytics import YOLO\n",
    "# from paddleocr import PaddleOCR\n",
    "# import os\n",
    "# import numpy as np\n",
    "\n",
    "# # Define the paths\n",
    "# image_path = '/mnt/c/Users/drenergydrink/Desktop/Document-and-Record-Management/YOLOv8/mainali.jpg'\n",
    "# model_path = \"/mnt/c/Users/drenergydrink/Desktop/Document-and-Record-Management/pretrained models/best.pt\"\n",
    "\n",
    "# # Load the trained YOLO model\n",
    "# model = YOLO(model_path)\n",
    "\n",
    "# # Perform inference on an image\n",
    "# results = model(image_path)\n",
    "\n",
    "# # Load the image with OpenCV\n",
    "# image = cv2.imread(image_path)\n",
    "\n",
    "# # Initialize PaddleOCR reader (English language model)\n",
    "# ocr = PaddleOCR(use_angle_cls=True, lang='en') \n",
    "\n",
    "# # Dictionary to map class IDs to class names\n",
    "# class_map = {\n",
    "#     0: 'address',\n",
    "#     1: 'blood_group',\n",
    "#     2: 'citizenship_number',\n",
    "#     3: 'contact_number',\n",
    "#     4: 'dob',\n",
    "#     5: 'document_type',\n",
    "#     6: 'father_name',\n",
    "#     7: 'license_category',\n",
    "#     8: 'license_number',\n",
    "#     9: 'name'\n",
    "# }\n",
    "\n",
    "# # Generate a color map for classes\n",
    "# def get_color(class_id):\n",
    "#     np.random.seed(class_id)  # Seed for reproducibility\n",
    "#     return tuple(np.random.randint(0, 255, 3).tolist())\n",
    "\n",
    "# # Extract the base name of the image file (without extension)\n",
    "# base_name = os.path.splitext(os.path.basename(image_path))[0]\n",
    "\n",
    "# # Directory to save OCR results\n",
    "# output_dir = 'OCR_Outputs'\n",
    "# os.makedirs(output_dir, exist_ok=True)\n",
    "\n",
    "# # File to save OCR results with the same name as the image\n",
    "# output_file_path = os.path.join(output_dir, f'{base_name}_results.txt')\n",
    "\n",
    "# # Open the file in write mode\n",
    "# with open(output_file_path, 'w') as file:\n",
    "#     # Iterate over each result\n",
    "#     for result in results:\n",
    "#         boxes = result.boxes.xyxy  # Bounding box coordinates\n",
    "#         class_ids = result.boxes.cls  # Class IDs\n",
    "\n",
    "#         # Iterate over each detected box and class ID\n",
    "#         for box, class_id in zip(boxes, class_ids):\n",
    "#             x1, y1, x2, y2 = map(int, box.tolist())  # Convert coordinates to integers\n",
    "            \n",
    "#             # Crop the image based on the coordinates\n",
    "#             cropped_img = image[y1:y2, x1:x2]\n",
    "\n",
    "#             # Use PaddleOCR to read the text from the cropped image\n",
    "#             ocr_result = ocr.ocr(cropped_img)\n",
    "\n",
    "#             # Extract and save the text recognized by PaddleOCR\n",
    "#             for line in ocr_result:\n",
    "#                 for text in line:\n",
    "#                     file.write(f\"Class: {class_map.get(int(class_id), 'Unknown')}, Text: {text[1][0]}\\n\")\n",
    "                    \n",
    "#             # Draw bounding box and class label on the original image\n",
    "#             color = get_color(int(class_id))\n",
    "#             label = class_map.get(int(class_id), 'Unknown')\n",
    "#             cv2.rectangle(image, (x1, y1), (x2, y2), color, 2)\n",
    "#             cv2.putText(image, label, (x1, y1 - 10), cv2.FONT_HERSHEY_SIMPLEX, 0.9, color, 2)\n",
    "\n",
    "# # Save the annotated image to the same folder\n",
    "# annotated_image_path = os.path.join(output_dir, f'{base_name}_annotated.jpg')\n",
    "# cv2.imwrite(annotated_image_path, image)\n"
   ]
  },
  {
   "cell_type": "code",
   "execution_count": null,
   "metadata": {},
   "outputs": [],
   "source": []
  }
 ],
 "metadata": {
  "kernelspec": {
   "display_name": "cnnlocalizer",
   "language": "python",
   "name": "python3"
  },
  "language_info": {
   "codemirror_mode": {
    "name": "ipython",
    "version": 3
   },
   "file_extension": ".py",
   "mimetype": "text/x-python",
   "name": "python",
   "nbconvert_exporter": "python",
   "pygments_lexer": "ipython3",
   "version": "3.10.14"
  }
 },
 "nbformat": 4,
 "nbformat_minor": 2
}
