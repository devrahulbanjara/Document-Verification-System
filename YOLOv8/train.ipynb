{
 "cells": [
  {
   "cell_type": "code",
   "execution_count": 1,
   "metadata": {},
   "outputs": [
    {
     "name": "stdout",
     "output_type": "stream",
     "text": [
      "Downloading https://github.com/ultralytics/assets/releases/download/v8.2.0/yolov8m.pt to 'yolov8m.pt'...\n"
     ]
    },
    {
     "name": "stderr",
     "output_type": "stream",
     "text": [
      "100%|██████████| 49.7M/49.7M [00:21<00:00, 2.42MB/s]\n"
     ]
    }
   ],
   "source": [
    "from ultralytics import YOLO\n",
    "model=YOLO(\"yolov8m.pt\")"
   ]
  },
  {
   "cell_type": "code",
   "execution_count": null,
   "metadata": {},
   "outputs": [],
   "source": [
    "model.train(data=\"/home/rahul/Desktop/Document-and-Record-Management/YOLOv8/data/data.yaml\",epochs=80)"
   ]
  },
  {
   "cell_type": "code",
   "execution_count": null,
   "metadata": {},
   "outputs": [],
   "source": [
    "# yolo = YOLO(\"/mnt/c/Users/drenergydrink/Desktop/Document-and-Record-Management/pretrained models/best.pt\"); yolo.predict(source=\"/mnt/c/Users/drenergydrink/Desktop/Document-and-Record-Management/YOLOv8/license_94.png\", save=True)\n"
   ]
  },
  {
   "cell_type": "code",
   "execution_count": null,
   "metadata": {},
   "outputs": [],
   "source": [
    "model = YOLO(\"/mnt/c/Users/drenergydrink/Desktop/Document-and-Record-Management/pretrained models/best.pt\")\n",
    "results = model('/mnt/c/Users/drenergydrink/Desktop/Document-and-Record-Management/YOLOv8/mainali.jpg')\n",
    "\n",
    "# Extract the coordinates, class IDs, and confidence scores\n",
    "for result in results:\n",
    "    boxes = result.boxes.xyxy  # x1, y1, x2, y2 (top-left and bottom-right corner coordinates)\n",
    "    scores = result.boxes.conf  # Confidence scores\n",
    "    class_ids = result.boxes.cls  # Class IDs\n",
    "\n",
    "    for box, score, class_id in zip(boxes, scores, class_ids):\n",
    "        x1, y1, x2, y2 = box.tolist()  # Convert to list to get the values\n",
    "        print(f\"Class ID: {class_id}, Confidence: {score}, Coordinates: ({x1}, {y1}), ({x2}, {y2})\")"
   ]
  },
  {
   "cell_type": "code",
   "execution_count": 10,
   "metadata": {},
   "outputs": [
    {
     "name": "stdout",
     "output_type": "stream",
     "text": [
      "\n",
      "image 1/1 /mnt/c/Users/drenergydrink/Desktop/Document-and-Record-Management/YOLOv8/mainali.jpg: 480x640 1 address, 1 blood_group, 1 citizenship_number, 1 contact_number, 1 dob, 1 document_type, 1 father_name, 1 license_category, 1 license_number, 2 names, 93.3ms\n",
      "Speed: 3.6ms preprocess, 93.3ms inference, 3.3ms postprocess per image at shape (1, 3, 480, 640)\n",
      "[2024/08/10 22:58:16] ppocr DEBUG: Namespace(help='==SUPPRESS==', use_gpu=False, use_xpu=False, use_npu=False, use_mlu=False, ir_optim=True, use_tensorrt=False, min_subgraph_size=15, precision='fp32', gpu_mem=500, gpu_id=0, image_dir=None, page_num=0, det_algorithm='DB', det_model_dir='/home/rahul/.paddleocr/whl/det/en/en_PP-OCRv3_det_infer', det_limit_side_len=960, det_limit_type='max', det_box_type='quad', det_db_thresh=0.3, det_db_box_thresh=0.6, det_db_unclip_ratio=1.5, max_batch_size=10, use_dilation=False, det_db_score_mode='fast', det_east_score_thresh=0.8, det_east_cover_thresh=0.1, det_east_nms_thresh=0.2, det_sast_score_thresh=0.5, det_sast_nms_thresh=0.2, det_pse_thresh=0, det_pse_box_thresh=0.85, det_pse_min_area=16, det_pse_scale=1, scales=[8, 16, 32], alpha=1.0, beta=1.0, fourier_degree=5, rec_algorithm='SVTR_LCNet', rec_model_dir='/home/rahul/.paddleocr/whl/rec/en/en_PP-OCRv4_rec_infer', rec_image_inverse=True, rec_image_shape='3, 48, 320', rec_batch_num=6, max_text_length=25, rec_char_dict_path='/home/rahul/miniconda3/envs/cnnlocalizer/lib/python3.10/site-packages/paddleocr/ppocr/utils/en_dict.txt', use_space_char=True, vis_font_path='./doc/fonts/simfang.ttf', drop_score=0.5, e2e_algorithm='PGNet', e2e_model_dir=None, e2e_limit_side_len=768, e2e_limit_type='max', e2e_pgnet_score_thresh=0.5, e2e_char_dict_path='./ppocr/utils/ic15_dict.txt', e2e_pgnet_valid_set='totaltext', e2e_pgnet_mode='fast', use_angle_cls=True, cls_model_dir='/home/rahul/.paddleocr/whl/cls/ch_ppocr_mobile_v2.0_cls_infer', cls_image_shape='3, 48, 192', label_list=['0', '180'], cls_batch_num=6, cls_thresh=0.9, enable_mkldnn=False, cpu_threads=10, use_pdserving=False, warmup=False, sr_model_dir=None, sr_image_shape='3, 32, 128', sr_batch_num=1, draw_img_save_dir='./inference_results', save_crop_res=False, crop_res_save_dir='./output', use_mp=False, total_process_num=1, process_id=0, benchmark=False, save_log_path='./log_output/', show_log=True, use_onnx=False, return_word_box=False, output='./output', table_max_len=488, table_algorithm='TableAttn', table_model_dir=None, merge_no_span_structure=True, table_char_dict_path=None, layout_model_dir=None, layout_dict_path=None, layout_score_threshold=0.5, layout_nms_threshold=0.5, kie_algorithm='LayoutXLM', ser_model_dir=None, re_model_dir=None, use_visual_backbone=True, ser_dict_path='../train_data/XFUND/class_list_xfun.txt', ocr_order_method=None, mode='structure', image_orientation=False, layout=True, table=True, ocr=True, recovery=False, use_pdf2docx_api=False, invert=False, binarize=False, alphacolor=(255, 255, 255), lang='en', det=True, rec=True, type='ocr', savefile=False, ocr_version='PP-OCRv4', structure_version='PP-StructureV2')\n",
      "[2024/08/10 22:58:17] ppocr DEBUG: dt_boxes num : 1, elapsed : 0.11507940292358398\n",
      "[2024/08/10 22:58:17] ppocr DEBUG: cls num  : 1, elapsed : 0.05273580551147461\n",
      "[2024/08/10 22:58:17] ppocr DEBUG: rec_res num  : 1, elapsed : 0.17132091522216797\n",
      "[2024/08/10 22:58:17] ppocr DEBUG: dt_boxes num : 4, elapsed : 0.15476369857788086\n",
      "[2024/08/10 22:58:18] ppocr DEBUG: cls num  : 4, elapsed : 0.06446290016174316\n",
      "[2024/08/10 22:58:18] ppocr DEBUG: rec_res num  : 4, elapsed : 0.38082098960876465\n",
      "[2024/08/10 22:58:18] ppocr DEBUG: dt_boxes num : 1, elapsed : 0.13130640983581543\n",
      "[2024/08/10 22:58:18] ppocr DEBUG: cls num  : 1, elapsed : 0.010542869567871094\n",
      "[2024/08/10 22:58:18] ppocr DEBUG: rec_res num  : 1, elapsed : 0.18584251403808594\n",
      "[2024/08/10 22:58:18] ppocr DEBUG: dt_boxes num : 2, elapsed : 0.09340023994445801\n",
      "[2024/08/10 22:58:18] ppocr DEBUG: cls num  : 2, elapsed : 0.014160394668579102\n",
      "[2024/08/10 22:58:19] ppocr DEBUG: rec_res num  : 2, elapsed : 0.2433013916015625\n",
      "[2024/08/10 22:58:19] ppocr DEBUG: dt_boxes num : 3, elapsed : 0.12613272666931152\n",
      "[2024/08/10 22:58:19] ppocr DEBUG: cls num  : 3, elapsed : 0.06604409217834473\n",
      "[2024/08/10 22:58:19] ppocr DEBUG: rec_res num  : 3, elapsed : 0.2732360363006592\n",
      "[2024/08/10 22:58:19] ppocr DEBUG: dt_boxes num : 1, elapsed : 0.144453763961792\n",
      "[2024/08/10 22:58:19] ppocr DEBUG: cls num  : 1, elapsed : 0.018733501434326172\n",
      "[2024/08/10 22:58:19] ppocr DEBUG: rec_res num  : 1, elapsed : 0.15056538581848145\n",
      "[2024/08/10 22:58:19] ppocr DEBUG: dt_boxes num : 2, elapsed : 0.028261899948120117\n",
      "[2024/08/10 22:58:20] ppocr DEBUG: cls num  : 2, elapsed : 0.03437614440917969\n",
      "[2024/08/10 22:58:20] ppocr DEBUG: rec_res num  : 2, elapsed : 0.24702811241149902\n",
      "[2024/08/10 22:58:20] ppocr DEBUG: dt_boxes num : 1, elapsed : 0.019667863845825195\n",
      "[2024/08/10 22:58:20] ppocr DEBUG: cls num  : 1, elapsed : 0.02269458770751953\n",
      "[2024/08/10 22:58:20] ppocr DEBUG: rec_res num  : 1, elapsed : 0.12862658500671387\n",
      "[2024/08/10 22:58:20] ppocr DEBUG: dt_boxes num : 1, elapsed : 0.11285901069641113\n",
      "[2024/08/10 22:58:20] ppocr DEBUG: cls num  : 1, elapsed : 0.009854316711425781\n",
      "[2024/08/10 22:58:20] ppocr DEBUG: rec_res num  : 1, elapsed : 0.1690845489501953\n",
      "[2024/08/10 22:58:20] ppocr DEBUG: dt_boxes num : 2, elapsed : 0.12570428848266602\n",
      "[2024/08/10 22:58:20] ppocr DEBUG: cls num  : 2, elapsed : 0.019878864288330078\n",
      "[2024/08/10 22:58:21] ppocr DEBUG: rec_res num  : 2, elapsed : 0.20447325706481934\n",
      "[2024/08/10 22:58:21] ppocr DEBUG: dt_boxes num : 2, elapsed : 0.02671647071838379\n",
      "[2024/08/10 22:58:21] ppocr DEBUG: cls num  : 2, elapsed : 0.018723487854003906\n",
      "[2024/08/10 22:58:21] ppocr DEBUG: rec_res num  : 2, elapsed : 0.17959332466125488\n"
     ]
    },
    {
     "data": {
      "text/plain": [
       "True"
      ]
     },
     "execution_count": 10,
     "metadata": {},
     "output_type": "execute_result"
    }
   ],
   "source": [
    "import cv2\n",
    "from ultralytics import YOLO\n",
    "from paddleocr import PaddleOCR\n",
    "import os\n",
    "import numpy as np\n",
    "\n",
    "# Define the paths\n",
    "image_path = '/mnt/c/Users/drenergydrink/Desktop/Document-and-Record-Management/YOLOv8/mainali.jpg'\n",
    "model_path = \"/mnt/c/Users/drenergydrink/Desktop/Document-and-Record-Management/pretrained models/best.pt\"\n",
    "\n",
    "# Load the trained YOLO model\n",
    "model = YOLO(model_path)\n",
    "\n",
    "# Perform inference on an image\n",
    "results = model(image_path)\n",
    "\n",
    "# Load the image with OpenCV\n",
    "image = cv2.imread(image_path)\n",
    "\n",
    "# Initialize PaddleOCR reader (English language model)\n",
    "ocr = PaddleOCR(use_angle_cls=True, lang='en') \n",
    "\n",
    "# Dictionary to map class IDs to class names\n",
    "class_map = {\n",
    "    0: 'address',\n",
    "    1: 'blood_group',\n",
    "    2: 'citizenship_number',\n",
    "    3: 'contact_number',\n",
    "    4: 'dob',\n",
    "    5: 'document_type',\n",
    "    6: 'father_name',\n",
    "    7: 'license_category',\n",
    "    8: 'license_number',\n",
    "    9: 'name'\n",
    "}\n",
    "\n",
    "# Generate a color map for classes\n",
    "def get_color(class_id):\n",
    "    np.random.seed(class_id)  # Seed for reproducibility\n",
    "    return tuple(np.random.randint(0, 255, 3).tolist())\n",
    "\n",
    "# Extract the base name of the image file (without extension)\n",
    "base_name = os.path.splitext(os.path.basename(image_path))[0]\n",
    "\n",
    "# Directory to save OCR results\n",
    "output_dir = 'OCR_Outputs'\n",
    "os.makedirs(output_dir, exist_ok=True)\n",
    "\n",
    "# File to save OCR results with the same name as the image\n",
    "output_file_path = os.path.join(output_dir, f'{base_name}_results.txt')\n",
    "\n",
    "# Open the file in write mode\n",
    "with open(output_file_path, 'w') as file:\n",
    "    # Iterate over each result\n",
    "    for result in results:\n",
    "        boxes = result.boxes.xyxy  # Bounding box coordinates\n",
    "        class_ids = result.boxes.cls  # Class IDs\n",
    "\n",
    "        # Iterate over each detected box and class ID\n",
    "        for box, class_id in zip(boxes, class_ids):\n",
    "            x1, y1, x2, y2 = map(int, box.tolist())  # Convert coordinates to integers\n",
    "            \n",
    "            # Crop the image based on the coordinates\n",
    "            cropped_img = image[y1:y2, x1:x2]\n",
    "\n",
    "            # Use PaddleOCR to read the text from the cropped image\n",
    "            ocr_result = ocr.ocr(cropped_img)\n",
    "\n",
    "            # Extract and save the text recognized by PaddleOCR\n",
    "            for line in ocr_result:\n",
    "                for text in line:\n",
    "                    file.write(f\"Class: {class_map.get(int(class_id), 'Unknown')}, Text: {text[1][0]}\\n\")\n",
    "                    \n",
    "            # Draw bounding box and class label on the original image\n",
    "            color = get_color(int(class_id))\n",
    "            label = class_map.get(int(class_id), 'Unknown')\n",
    "            cv2.rectangle(image, (x1, y1), (x2, y2), color, 2)\n",
    "            cv2.putText(image, label, (x1, y1 - 10), cv2.FONT_HERSHEY_SIMPLEX, 0.9, color, 2)\n",
    "\n",
    "# Save the annotated image to the same folder\n",
    "annotated_image_path = os.path.join(output_dir, f'{base_name}_annotated.jpg')\n",
    "cv2.imwrite(annotated_image_path, image)\n"
   ]
  },
  {
   "cell_type": "code",
   "execution_count": null,
   "metadata": {},
   "outputs": [],
   "source": []
  }
 ],
 "metadata": {
  "kernelspec": {
   "display_name": "cnnlocalizer",
   "language": "python",
   "name": "python3"
  },
  "language_info": {
   "codemirror_mode": {
    "name": "ipython",
    "version": 3
   },
   "file_extension": ".py",
   "mimetype": "text/x-python",
   "name": "python",
   "nbconvert_exporter": "python",
   "pygments_lexer": "ipython3",
   "version": "3.10.14"
  }
 },
 "nbformat": 4,
 "nbformat_minor": 2
}
