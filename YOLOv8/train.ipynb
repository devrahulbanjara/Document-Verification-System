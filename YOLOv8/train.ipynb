{
 "cells": [
  {
   "cell_type": "code",
   "execution_count": 1,
   "metadata": {},
   "outputs": [],
   "source": [
    "from ultralytics import YOLO\n",
    "model=YOLO(\"yolov8m.pt\")"
   ]
  },
  {
   "cell_type": "code",
   "execution_count": null,
   "metadata": {},
   "outputs": [],
   "source": [
    "model.train(data=\"/mnt/c/Users/drenergydrink/Desktop/Document-and-Record-Management/YOLOv8/data/data.yaml\",epochs=80)"
   ]
  },
  {
   "cell_type": "code",
   "execution_count": 4,
   "metadata": {},
   "outputs": [
    {
     "name": "stdout",
     "output_type": "stream",
     "text": [
      "\n",
      "image 1/1 /mnt/c/Users/drenergydrink/Desktop/Document-and-Record-Management/YOLOv8/mainali.jpg: 480x640 1 address, 1 blood_group, 1 citizenship_number, 1 contact_number, 1 dob, 1 document_type, 1 father_name, 1 license_category, 1 license_number, 2 names, 22.2ms\n",
      "Speed: 4.3ms preprocess, 22.2ms inference, 1.7ms postprocess per image at shape (1, 3, 480, 640)\n",
      "Results saved to \u001b[1mruns/detect/predict2\u001b[0m\n"
     ]
    },
    {
     "data": {
      "text/plain": [
       "[ultralytics.engine.results.Results object with attributes:\n",
       " \n",
       " boxes: ultralytics.engine.results.Boxes object\n",
       " keypoints: None\n",
       " masks: None\n",
       " names: {0: 'address', 1: 'blood_group', 2: 'citizenship_number', 3: 'contact_number', 4: 'dob', 5: 'document_type', 6: 'father_name', 7: 'license_category', 8: 'license_number', 9: 'name'}\n",
       " obb: None\n",
       " orig_img: array([[[10, 16, 21],\n",
       "         [10, 16, 21],\n",
       "         [10, 16, 21],\n",
       "         ...,\n",
       "         [64, 76, 88],\n",
       "         [61, 73, 85],\n",
       "         [58, 70, 82]],\n",
       " \n",
       "        [[10, 16, 21],\n",
       "         [10, 16, 21],\n",
       "         [10, 16, 21],\n",
       "         ...,\n",
       "         [63, 75, 87],\n",
       "         [62, 74, 86],\n",
       "         [61, 73, 85]],\n",
       " \n",
       "        [[ 9, 15, 20],\n",
       "         [10, 16, 21],\n",
       "         [10, 16, 21],\n",
       "         ...,\n",
       "         [63, 75, 87],\n",
       "         [63, 75, 87],\n",
       "         [61, 73, 85]],\n",
       " \n",
       "        ...,\n",
       " \n",
       "        [[10, 14, 19],\n",
       "         [ 9, 13, 18],\n",
       "         [ 9, 13, 18],\n",
       "         ...,\n",
       "         [ 4,  6,  7],\n",
       "         [ 5,  7,  8],\n",
       "         [ 5,  7,  8]],\n",
       " \n",
       "        [[10, 14, 19],\n",
       "         [10, 14, 19],\n",
       "         [ 9, 13, 18],\n",
       "         ...,\n",
       "         [ 3,  5,  6],\n",
       "         [ 2,  4,  5],\n",
       "         [ 2,  4,  5]],\n",
       " \n",
       "        [[10, 14, 19],\n",
       "         [10, 14, 19],\n",
       "         [ 9, 13, 18],\n",
       "         ...,\n",
       "         [ 1,  3,  4],\n",
       "         [ 1,  3,  4],\n",
       "         [ 1,  3,  4]]], dtype=uint8)\n",
       " orig_shape: (1536, 2048)\n",
       " path: '/mnt/c/Users/drenergydrink/Desktop/Document-and-Record-Management/YOLOv8/mainali.jpg'\n",
       " probs: None\n",
       " save_dir: 'runs/detect/predict2'\n",
       " speed: {'preprocess': 4.299640655517578, 'inference': 22.174596786499023, 'postprocess': 1.7328262329101562}]"
      ]
     },
     "execution_count": 4,
     "metadata": {},
     "output_type": "execute_result"
    }
   ],
   "source": [
    "yolo = YOLO(\"/mnt/c/Users/drenergydrink/Desktop/Document-and-Record-Management/pretrained models/YOLOv8m-Driving License Best.pt\"); yolo.predict(source=\"/mnt/c/Users/drenergydrink/Desktop/Document-and-Record-Management/YOLOv8/mainali.jpg\", save=True)\n"
   ]
  },
  {
   "cell_type": "code",
   "execution_count": null,
   "metadata": {},
   "outputs": [],
   "source": []
  },
  {
   "cell_type": "code",
   "execution_count": null,
   "metadata": {},
   "outputs": [],
   "source": []
  },
  {
   "cell_type": "code",
   "execution_count": null,
   "metadata": {},
   "outputs": [],
   "source": []
  }
 ],
 "metadata": {
  "kernelspec": {
   "display_name": "cnnlocalizer",
   "language": "python",
   "name": "python3"
  },
  "language_info": {
   "codemirror_mode": {
    "name": "ipython",
    "version": 3
   },
   "file_extension": ".py",
   "mimetype": "text/x-python",
   "name": "python",
   "nbconvert_exporter": "python",
   "pygments_lexer": "ipython3",
   "version": "3.10.0"
  }
 },
 "nbformat": 4,
 "nbformat_minor": 2
}
