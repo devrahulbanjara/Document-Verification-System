{
 "cells": [
  {
   "cell_type": "code",
   "execution_count": 1,
   "metadata": {},
   "outputs": [],
   "source": [
    "from ultralytics import YOLO\n",
    "model=YOLO(\"yolov8m.pt\")"
   ]
  },
  {
   "cell_type": "code",
   "execution_count": null,
   "metadata": {},
   "outputs": [],
   "source": [
    "model.train(data=\"/mnt/c/Users/drenergydrink/Desktop/Document-and-Record-Management/YOLOv8/data/data.yaml\",epochs=80)"
   ]
  },
  {
   "cell_type": "code",
   "execution_count": 2,
   "metadata": {},
   "outputs": [
    {
     "name": "stdout",
     "output_type": "stream",
     "text": [
      "\n",
      "image 1/1 /mnt/c/Users/drenergydrink/Desktop/Document-and-Record-Management/YOLOv8/mylicense.JPG: 384x640 1 address, 1 blood_group, 1 citizenship_number, 1 contact_number, 1 dob, 1 document_type, 1 father_name, 1 license_category, 1 license_number, 1 name, 53.2ms\n",
      "Speed: 1.8ms preprocess, 53.2ms inference, 182.2ms postprocess per image at shape (1, 3, 384, 640)\n",
      "Results saved to \u001b[1m/mnt/c/Users/drenergydrink/Desktop/Document-and-Record-Management/YOLOv8/inference_output\u001b[0m\n"
     ]
    },
    {
     "data": {
      "text/plain": [
       "[ultralytics.engine.results.Results object with attributes:\n",
       " \n",
       " boxes: ultralytics.engine.results.Boxes object\n",
       " keypoints: None\n",
       " masks: None\n",
       " names: {0: 'address', 1: 'blood_group', 2: 'citizenship_number', 3: 'contact_number', 4: 'dob', 5: 'document_type', 6: 'father_name', 7: 'license_category', 8: 'license_number', 9: 'name'}\n",
       " obb: None\n",
       " orig_img: array([[[208, 174, 185],\n",
       "         [183, 149, 160],\n",
       "         [145, 111, 122],\n",
       "         ...,\n",
       "         [139, 111, 117],\n",
       "         [199, 171, 177],\n",
       "         [232, 204, 210]],\n",
       " \n",
       "        [[226, 192, 203],\n",
       "         [207, 173, 184],\n",
       "         [172, 138, 149],\n",
       "         ...,\n",
       "         [156, 128, 134],\n",
       "         [211, 183, 189],\n",
       "         [241, 213, 219]],\n",
       " \n",
       "        [[241, 206, 216],\n",
       "         [227, 192, 202],\n",
       "         [200, 165, 175],\n",
       "         ...,\n",
       "         [177, 150, 154],\n",
       "         [220, 193, 197],\n",
       "         [240, 213, 217]],\n",
       " \n",
       "        ...,\n",
       " \n",
       "        [[143, 109, 116],\n",
       "         [141, 107, 114],\n",
       "         [138, 104, 111],\n",
       "         ...,\n",
       "         [172, 127, 154],\n",
       "         [154, 106, 134],\n",
       "         [152, 104, 133]],\n",
       " \n",
       "        [[142, 108, 114],\n",
       "         [140, 106, 112],\n",
       "         [137, 103, 109],\n",
       "         ...,\n",
       "         [220, 175, 201],\n",
       "         [191, 144, 170],\n",
       "         [177, 130, 156]],\n",
       " \n",
       "        [[147, 113, 119],\n",
       "         [146, 112, 118],\n",
       "         [144, 110, 116],\n",
       "         ...,\n",
       "         [254, 210, 233],\n",
       "         [226, 179, 205],\n",
       "         [209, 162, 188]]], dtype=uint8)\n",
       " orig_shape: (2268, 4032)\n",
       " path: '/mnt/c/Users/drenergydrink/Desktop/Document-and-Record-Management/YOLOv8/mylicense.JPG'\n",
       " probs: None\n",
       " save_dir: '/mnt/c/Users/drenergydrink/Desktop/Document-and-Record-Management/YOLOv8/inference_output'\n",
       " speed: {'preprocess': 1.8267631530761719, 'inference': 53.20572853088379, 'postprocess': 182.1880340576172}]"
      ]
     },
     "execution_count": 2,
     "metadata": {},
     "output_type": "execute_result"
    }
   ],
   "source": [
    "yolo = YOLO(\"/mnt/c/Users/drenergydrink/Desktop/Document-and-Record-Management/pretrained models/best.pt\"); yolo.predict(source=\"/mnt/c/Users/drenergydrink/Desktop/Document-and-Record-Management/YOLOv8/abc.jpg\", save=True)\n"
   ]
  },
  {
   "cell_type": "code",
   "execution_count": null,
   "metadata": {},
   "outputs": [],
   "source": []
  },
  {
   "cell_type": "code",
   "execution_count": null,
   "metadata": {},
   "outputs": [],
   "source": []
  },
  {
   "cell_type": "code",
   "execution_count": null,
   "metadata": {},
   "outputs": [],
   "source": []
  }
 ],
 "metadata": {
  "kernelspec": {
   "display_name": "cnnlocalizer",
   "language": "python",
   "name": "python3"
  },
  "language_info": {
   "codemirror_mode": {
    "name": "ipython",
    "version": 3
   },
   "file_extension": ".py",
   "mimetype": "text/x-python",
   "name": "python",
   "nbconvert_exporter": "python",
   "pygments_lexer": "ipython3",
   "version": "3.10.0"
  }
 },
 "nbformat": 4,
 "nbformat_minor": 2
}
