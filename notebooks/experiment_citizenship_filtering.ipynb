{
 "cells": [
  {
   "cell_type": "code",
   "execution_count": 2,
   "metadata": {},
   "outputs": [],
   "source": [
    "nepali_to_english_mapping = {\n",
    "    \"०\": \"0\",\n",
    "    \"१\": \"1\",\n",
    "    \"२\": \"2\",\n",
    "    \"३\": \"3\",\n",
    "    \"४\": \"4\",\n",
    "    \"५\": \"5\",\n",
    "    \"६\": \"6\",\n",
    "    \"७\": \"7\",\n",
    "    \"८\": \"8\",\n",
    "    \"९\": \"9\"\n",
    "}\n",
    "\n",
    "def filter_number(ulfiltered_number):\n",
    "    english_number = \"\"\n",
    "\n",
    "    for digit in ulfiltered_number:\n",
    "        if digit in nepali_to_english_mapping.keys():\n",
    "            english_number += nepali_to_english_mapping[digit]\n",
    "\n",
    "    return english_number\n",
    "\n",
    "def filter_text(unfiltered_text):\n",
    "    unwanted = [\n",
    "    '।', '॥', '|', '-', '.', ',', '?', '!', '(', ')', '[', ']', '{', '}', ':', ';', \n",
    "    '_', '*', '#', '@', '&', '%', '$', \n",
    "    '०', '१', '२', '३', '४', '५', '६', '७', '८', '९',\n",
    "    '0', '1', '2', '3', '4', '5', '6', '7', '8', '9',\n",
    "    '~', '`', '+', '=', '<', '>', '\\\\', '\"', \"'\", ';', '¬', '^', '°', '§', '¤', '©', '®', \n",
    "    '¥', '¢', '£', '€', '•', '-', '—', '…', '«', '»', '<', '>'\n",
    "    ]\n",
    "\n",
    "    filtered_text = \"\"\n",
    "    for alphabet in unfiltered_text:\n",
    "        if alphabet not in unwanted:\n",
    "            filtered_text += alphabet\n",
    "\n",
    "    return filtered_text.split()\n"
   ]
  },
  {
   "cell_type": "code",
   "execution_count": 16,
   "metadata": {},
   "outputs": [],
   "source": [
    "collected_texts = {'citizenship_number': ['नाप्रन : २७ ०१ ७८-०५०८७'], 'district': ['जिल्ला : झापा'], 'gender': ['पुरुष', 'लिङ्क'], 'name': ['नाम थरः', 'राहुल देव बन्जारा'], 'year': ['सालः २०६०']}"
   ]
  },
  {
   "cell_type": "code",
   "execution_count": 8,
   "metadata": {},
   "outputs": [
    {
     "data": {
      "text/plain": [
       "['नाम', 'मल्त', 'सुस्मिता', 'थरः']"
      ]
     },
     "execution_count": 8,
     "metadata": {},
     "output_type": "execute_result"
    }
   ],
   "source": [
    "['नाम थरः', 'अजित कोइराला']\n",
    "['+गाला', '२६ल+> ', 'नाम', '7+.', '7माच', 'दिवस अधिकारी', 'थरः']\n",
    "['नाम', 'मल्त', 'सुस्मिता', 'थरः']"
   ]
  },
  {
   "cell_type": "code",
   "execution_count": 22,
   "metadata": {},
   "outputs": [
    {
     "name": "stdout",
     "output_type": "stream",
     "text": [
      "पुरुष\n",
      "लिङ्क\n",
      "\n",
      "\n",
      "\n",
      "Final\n",
      "{'citizenship_number': '27017805087', 'district': 'झापा', 'gender': 'पुरुष', 'name': 'राहुल देव बन्जारा', 'year': '2060'}\n"
     ]
    }
   ],
   "source": [
    "male = \"परष\"\n",
    "female = \"महल\"\n",
    "others = \"अनय\"\n",
    "\n",
    "extracted_texts = {}\n",
    "name_concat = \"\"\n",
    "\n",
    "for label, texts in collected_texts.items():\n",
    "    filtered_values = []\n",
    "\n",
    "    for text in texts:\n",
    "        if label == 'citizenship_number' or label == 'year':\n",
    "            filtered_value = filter_number(text)\n",
    "            if filtered_value:\n",
    "                filtered_values.append(filtered_value)\n",
    "                \n",
    "        elif label == 'gender':\n",
    "            print(text)\n",
    "            if \"ल\" in text and \"ि\" in text and len(text) <= 5:\n",
    "                continue\n",
    "            if any(char in text for char in female):\n",
    "                gender = \"महिला\"\n",
    "            elif any(char in text for char in male):\n",
    "                gender = \"पुरुष\"\n",
    "            elif any(char in text for char in others):\n",
    "                gender = \"अन्य\"\n",
    "            filtered_values.append(gender)\n",
    "            \n",
    "        elif label == \"district\":\n",
    "            filtered_text = filter_text(text)\n",
    "            for word in filtered_text:\n",
    "                if \"ज\" in word and \"ल\" in word:\n",
    "                    continue\n",
    "                filtered_values.append(word)\n",
    "                \n",
    "        elif label == \"name\":\n",
    "            filtered_text = filter_text(text)\n",
    "            for word in filtered_text:\n",
    "                if \"नाम\" in word or \"थर\" in word:\n",
    "                    continue\n",
    "                filtered_values.append(word)\n",
    "\n",
    "    if filtered_values:\n",
    "        if label in ['citizenship_number', 'year']:\n",
    "            extracted_texts[label] = \" \".join(filtered_values).replace(\" \", \"\")\n",
    "        else:\n",
    "            extracted_texts[label] = \" \".join(filtered_values)\n",
    "    else:\n",
    "        extracted_texts[label] = \"\"\n",
    "\n",
    "print()\n",
    "print()\n",
    "print()\n",
    "print(\"Final\")\n",
    "print(extracted_texts)\n"
   ]
  },
  {
   "cell_type": "code",
   "execution_count": 20,
   "metadata": {},
   "outputs": [
    {
     "name": "stdout",
     "output_type": "stream",
     "text": [
      "['ल', 'ि', 'ङ', '्', 'क']\n"
     ]
    }
   ],
   "source": [
    "print(list(a for a in \"लिङ्क\"))"
   ]
  },
  {
   "cell_type": "code",
   "execution_count": null,
   "metadata": {},
   "outputs": [],
   "source": []
  }
 ],
 "metadata": {
  "kernelspec": {
   "display_name": "docmgmt",
   "language": "python",
   "name": "python3"
  },
  "language_info": {
   "codemirror_mode": {
    "name": "ipython",
    "version": 3
   },
   "file_extension": ".py",
   "mimetype": "text/x-python",
   "name": "python",
   "nbconvert_exporter": "python",
   "pygments_lexer": "ipython3",
   "version": "3.10.15"
  }
 },
 "nbformat": 4,
 "nbformat_minor": 2
}
