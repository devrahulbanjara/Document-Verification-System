{
 "cells": [
  {
   "cell_type": "code",
   "execution_count": null,
   "metadata": {},
   "outputs": [],
   "source": [
    "import re\n",
    "\n",
    "def filter_name(name_list):\n",
    "    names = set()\n",
    "\n",
    "    name_pattern = re.compile(\n",
    "        r'\\b(?:name|nam|na|n|ame)\\s*[:\\s*-]*\\s*([A-Za-z\\s\\'\\-0-9]*)',\n",
    "        re.IGNORECASE\n",
    "    )\n",
    "\n",
    "    if name_list:\n",
    "        for item in name_list:\n",
    "            match = name_pattern.search(item)\n",
    "            if match:\n",
    "                extracted_name = match.group(1).strip()\n",
    "                if extracted_name:\n",
    "                    names.add(extracted_name)\n",
    "\n",
    "    return ' '.join(names)"
   ]
  },
  {
   "cell_type": "code",
   "execution_count": null,
   "metadata": {},
   "outputs": [],
   "source": [
    "def filter_license_details(collected_texts):\n",
    "    extracted_texts = {}\n",
    "\n",
    "    for label, texts in collected_texts.items():\n",
    "        filtered_values = []\n",
    "\n",
    "        for text in texts:\n",
    "            if label == 'dob':\n",
    "                filtered_value = filter_date(text)\n",
    "                if filtered_value:\n",
    "                    filtered_values.append(filtered_value)\n",
    "\n",
    "            elif label == 'name':\n",
    "                filtered_value = filter_name([text])\n",
    "                filtered_values.append(filtered_value)\n",
    "\n",
    "            else:\n",
    "                filtered_value = filter_number(text)\n",
    "                filtered_values.append(filtered_value)\n",
    "\n",
    "        if filtered_values:\n",
    "            if label in ['citizenship_number', 'contact_number', \"license_number\"]:\n",
    "                extracted_texts[label] = \" \".join(filtered_values).replace(\" \", \"\")\n",
    "            else:\n",
    "                extracted_texts[label] = \" \".join(filtered_values)\n",
    "        else:\n",
    "            extracted_texts[label] = \"\"\n",
    "\n",
    "    return extracted_texts"
   ]
  },
  {
   "cell_type": "code",
   "execution_count": 9,
   "metadata": {},
   "outputs": [],
   "source": [
    "def filter_license_details(collected_texts):\n",
    "    extracted_texts = {}\n",
    "    \n",
    "    return extracted_texts"
   ]
  },
  {
   "cell_type": "code",
   "execution_count": 6,
   "metadata": {},
   "outputs": [],
   "source": [
    "def filter_number(unfiltered_number):\n",
    "    filtered_number = \"\"\n",
    "\n",
    "    for digit in unfiltered_number:\n",
    "        if digit.isdigit():\n",
    "            filtered_number += digit\n",
    "\n",
    "    return filtered_number"
   ]
  },
  {
   "cell_type": "code",
   "execution_count": 7,
   "metadata": {},
   "outputs": [],
   "source": [
    "def filter_date(unfiltered_date):\n",
    "    filtered_date = \"\"\n",
    "    for i in unfiltered_date:\n",
    "        if i.isdigit() or i == \"-\":\n",
    "            filtered_date+=i\n",
    "    return filtered_date"
   ]
  }
 ],
 "metadata": {
  "kernelspec": {
   "display_name": "docmgmt",
   "language": "python",
   "name": "python3"
  },
  "language_info": {
   "codemirror_mode": {
    "name": "ipython",
    "version": 3
   },
   "file_extension": ".py",
   "mimetype": "text/x-python",
   "name": "python",
   "nbconvert_exporter": "python",
   "pygments_lexer": "ipython3",
   "version": "3.10.15"
  }
 },
 "nbformat": 4,
 "nbformat_minor": 2
}
