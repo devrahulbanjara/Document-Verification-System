{
 "cells": [
  {
   "cell_type": "code",
   "execution_count": 1,
   "metadata": {},
   "outputs": [],
   "source": [
    "import re\n",
    "\n",
    "def preprocess_text(text):\n",
    "    return re.sub(r'[^A-Za-z0-9\\s/-]', '', text).strip()"
   ]
  },
  {
   "cell_type": "code",
   "execution_count": 2,
   "metadata": {},
   "outputs": [],
   "source": [
    "def filter_name(name_list):\n",
    "    names = set()\n",
    "    name_pattern = re.compile(\n",
    "        r'(?:given\\s*names?|name|full\\s*name|cu)\\s*[:/\\s*-]*\\s*([A-Za-z\\'\\-0-9\\s]+)',\n",
    "        re.IGNORECASE\n",
    "    )\n",
    "    if name_list:\n",
    "        for item in name_list:\n",
    "            item = preprocess_text(item)\n",
    "            match = name_pattern.search(item)\n",
    "            if match:\n",
    "                extracted_name = match.group(1).strip()\n",
    "                if extracted_name:\n",
    "                    names.add(extracted_name)\n",
    "    return ' '.join(names)"
   ]
  },
  {
   "cell_type": "code",
   "execution_count": 3,
   "metadata": {},
   "outputs": [],
   "source": [
    "def filter_number(unfiltered_number):\n",
    "    filtered_number = \"\"\n",
    "    for digit in unfiltered_number:\n",
    "        if digit.isdigit():\n",
    "            filtered_number += digit\n",
    "    return filtered_number"
   ]
  },
  {
   "cell_type": "code",
   "execution_count": 4,
   "metadata": {},
   "outputs": [],
   "source": [
    "def filter_date(date_str):\n",
    "    month_map = {\n",
    "        'JAN': '01', 'FEB': '02', 'MAR': '03', 'APR': '04',\n",
    "        'MAY': '05', 'JUN': '06', 'JUL': '07', 'AUG': '08',\n",
    "        'SEP': '09', 'OCT': '10', 'NOV': '11', 'DEC': '12'\n",
    "    }\n",
    "    match = re.search(r'(\\d{1,2})\\s*([A-Z]{3})\\s*(\\d{4})', date_str)\n",
    "    if match:\n",
    "        day = match.group(1).zfill(2)\n",
    "        month_text = match.group(2).upper()\n",
    "        year = match.group(3)\n",
    "        month = month_map.get(month_text, '')\n",
    "        return f\"{day}-{month}-{year}\"\n",
    "    return ''"
   ]
  },
  {
   "cell_type": "code",
   "execution_count": 5,
   "metadata": {},
   "outputs": [],
   "source": [
    "def filter_surname(surname_list):\n",
    "    surnames = set()\n",
    "    surname_pattern = re.compile(\n",
    "        r'(?:surnam|surna|sumame|sumame|/surname|r\\s*surname|rsurname)\\s*[:/\\s*-]*\\s*([A-Za-z\\'\\-0-9\\s]+)',\n",
    "        re.IGNORECASE\n",
    "    )\n",
    "    if surname_list:\n",
    "        for item in surname_list:\n",
    "            item = preprocess_text(item)\n",
    "            match = surname_pattern.search(item)\n",
    "            if match:\n",
    "                extracted_surname = match.group(1).strip()\n",
    "                if extracted_surname:\n",
    "                    surnames.add(extracted_surname)\n",
    "    return ' '.join(surnames)\n"
   ]
  },
  {
   "cell_type": "code",
   "execution_count": 6,
   "metadata": {},
   "outputs": [],
   "source": [
    "def filter_passport_details(collected_texts):\n",
    "    extracted_texts = {}\n",
    "    for label, texts in collected_texts.items():\n",
    "        filtered_values = []\n",
    "        for text in texts:\n",
    "            text = preprocess_text(text)\n",
    "            if label == 'dob':\n",
    "                filtered_value = filter_date(text)\n",
    "                if filtered_value:\n",
    "                    filtered_values.append(filtered_value)\n",
    "            elif label == 'name':\n",
    "                filtered_value = filter_name([text])\n",
    "                filtered_values.append(filtered_value)\n",
    "            elif label == 'surname':\n",
    "                filtered_value = filter_surname([text])\n",
    "                filtered_values.append(filtered_value)\n",
    "            else:\n",
    "                filtered_value = filter_number(text)\n",
    "                filtered_values.append(filtered_value)\n",
    "        if filtered_values:\n",
    "            if label in ['citizenship_number', \"license_number\"]:\n",
    "                extracted_texts[label] = \" \".join(filtered_values).replace(\" \", \"\")\n",
    "            else:\n",
    "                extracted_texts[label] = \" \".join(filtered_values)\n",
    "        else:\n",
    "            extracted_texts[label] = \"\"\n",
    "    return extracted_texts"
   ]
  }
 ],
 "metadata": {
  "kernelspec": {
   "display_name": "docmgmt",
   "language": "python",
   "name": "python3"
  },
  "language_info": {
   "codemirror_mode": {
    "name": "ipython",
    "version": 3
   },
   "file_extension": ".py",
   "mimetype": "text/x-python",
   "name": "python",
   "nbconvert_exporter": "python",
   "pygments_lexer": "ipython3",
   "version": "3.10.15"
  }
 },
 "nbformat": 4,
 "nbformat_minor": 2
}
