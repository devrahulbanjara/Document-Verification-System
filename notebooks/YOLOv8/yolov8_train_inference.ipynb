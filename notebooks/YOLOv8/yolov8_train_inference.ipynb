{
 "cells": [
  {
   "cell_type": "code",
   "execution_count": null,
   "metadata": {},
   "outputs": [],
   "source": [
    "from ultralytics import YOLO\n",
    "# model = YOLO(\"/mnt/c/Users/Rahul/Desktop/Document-and-Record-Management/pretrained models/License_bestmodel.pt\")"
   ]
  },
  {
   "cell_type": "code",
   "execution_count": null,
   "metadata": {},
   "outputs": [],
   "source": [
    "model.train(\n",
    "    data=\"/mnt/c/Users/Rahul/Desktop/Document-and-Record-Management/notebooks/data/data.yaml\",\n",
    "    epochs=100,\n",
    "    patience=5,\n",
    "    batch=8,\n",
    "    imgsz=800,\n",
    "    device=0,\n",
    "    name=\"Passport\",\n",
    "    optimizer=\"Adam\",\n",
    "    verbose=True,\n",
    "    seed=42,\n",
    "    weight_decay=0.0005,\n",
    "    dropout=0.3,\n",
    "    val=True,\n",
    "    plots=True,\n",
    "    scale=0.3,\n",
    "    degrees=0.25\n",
    ")"
   ]
  },
  {
   "cell_type": "code",
   "execution_count": null,
   "metadata": {},
   "outputs": [],
   "source": [
    "model = YOLO(\"/mnt/c/Users/Rahul/Desktop/Document-and-Record-Management/pretrained models/License_bestmodel.pt\")\n",
    "model.predict(source=\"/mnt/c/Users/Rahul/Desktop/Document-and-Record-Management/notebooks/sarthak.jpg\", save=True)"
   ]
  },
  {
   "cell_type": "code",
   "execution_count": null,
   "metadata": {},
   "outputs": [],
   "source": [
    "# model = YOLO(\"/mnt/c/Users/Rahul/Desktop/Document-and-Record-Management/pretrained models/License_bestmodel.pt\")\n",
    "# results = model('/mnt/c/Users/Rahul/Desktop/Docs and Essentials/Confidential License/mylicense.JPG')\n",
    "\n",
    "# for result in results:\n",
    "#     boxes = result.boxes.xyxy\n",
    "#     scores = result.boxes.conf\n",
    "#     class_ids = result.boxes.cls\n",
    "\n",
    "#     for box, score, class_id in zip(boxes, scores, class_ids):\n",
    "#         x1, y1, x2, y2 = box.tolist()\n",
    "#         print(f\"Class ID: {class_id}, Confidence: {score}, Coordinates: ({x1}, {y1}), ({x2}, {y2})\")"
   ]
  },
  {
   "cell_type": "code",
   "execution_count": null,
   "metadata": {},
   "outputs": [],
   "source": []
  },
  {
   "cell_type": "code",
   "execution_count": null,
   "metadata": {},
   "outputs": [],
   "source": []
  }
 ],
 "metadata": {
  "kernelspec": {
   "display_name": "cnnlocalizer",
   "language": "python",
   "name": "python3"
  },
  "language_info": {
   "codemirror_mode": {
    "name": "ipython",
    "version": 3
   },
   "file_extension": ".py",
   "mimetype": "text/x-python",
   "name": "python",
   "nbconvert_exporter": "python",
   "pygments_lexer": "ipython3",
   "version": "3.10.14"
  }
 },
 "nbformat": 4,
 "nbformat_minor": 2
}
