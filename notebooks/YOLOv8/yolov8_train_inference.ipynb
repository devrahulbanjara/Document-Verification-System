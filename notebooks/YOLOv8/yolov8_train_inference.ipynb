{
 "cells": [
  {
   "cell_type": "code",
   "execution_count": null,
   "metadata": {},
   "outputs": [],
   "source": [
    "from ultralytics import YOLO\n",
    "model = YOLO(\"yolov8m.pt\")"
   ]
  },
  {
   "cell_type": "code",
   "execution_count": null,
   "metadata": {},
   "outputs": [],
   "source": [
    "model.train(\n",
    "    data=\"/mnt/c/Users/Rahul/Desktop/datasets/Passport with annotations/data.yaml\",\n",
    "    epochs=50,\n",
    "    patience=4,              \n",
    "    batch=16,               \n",
    "    imgsz=600,              \n",
    "    device=0,               \n",
    "    name=\"Passport\",         \n",
    "    optimizer=\"Adam\",        \n",
    "    verbose=True,            \n",
    "    seed=42,                 \n",
    "    weight_decay=0.001,      \n",
    "    dropout=0.4,           \n",
    "    val=True,  \n",
    "    plots=True, \n",
    ")"
   ]
  },
  {
   "cell_type": "code",
   "execution_count": null,
   "metadata": {},
   "outputs": [],
   "source": [
    "model = YOLO(\"/mnt/c/Users/Rahul/Desktop/Document-and-Record-Management/notebooks/YOLOv8/runs/detect/Passport/weights/best.pt\")\n",
    "model.predict(source=\"/mnt/c/Users/Rahul/Desktop/Docs and Essentials/Confidential Passports/hajurba.JPG\", save=True)"
   ]
  },
  {
   "cell_type": "code",
   "execution_count": null,
   "metadata": {},
   "outputs": [],
   "source": [
    "model = YOLO(\"/mnt/c/Users/Rahul/Desktop/Document-and-Record-Management/notebooks/YOLOv8/runs/detect/Passport/weights/best.pt\")\n",
    "results = model.predict(source=\"/mnt/c/Users/Rahul/Desktop/Docs and Essentials/Confidential Passports/hajurba.JPG\", save=True)\n",
    "\n",
    "for result in results:\n",
    "    boxes = result.boxes.xyxy.cpu().numpy()\n",
    "    confidences = result.boxes.conf.cpu().numpy()\n",
    "    for box, conf in zip(boxes, confidences):\n",
    "        if conf > 0.5:\n",
    "            print(f\"Box: {box}, Confidence: {conf}\")"
   ]
  },
  {
   "cell_type": "code",
   "execution_count": null,
   "metadata": {},
   "outputs": [],
   "source": []
  },
  {
   "cell_type": "code",
   "execution_count": null,
   "metadata": {},
   "outputs": [],
   "source": []
  }
 ],
 "metadata": {
  "kernelspec": {
   "display_name": "cnnlocalizer",
   "language": "python",
   "name": "python3"
  },
  "language_info": {
   "codemirror_mode": {
    "name": "ipython",
    "version": 3
   },
   "file_extension": ".py",
   "mimetype": "text/x-python",
   "name": "python",
   "nbconvert_exporter": "python",
   "pygments_lexer": "ipython3",
   "version": "3.10.14"
  }
 },
 "nbformat": 4,
 "nbformat_minor": 2
}
