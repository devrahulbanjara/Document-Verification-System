{
 "cells": [
  {
   "cell_type": "code",
   "execution_count": 1,
   "metadata": {},
   "outputs": [],
   "source": [
    "from ultralytics import YOLO\n",
    "import cv2"
   ]
  },
  {
   "cell_type": "markdown",
   "metadata": {},
   "source": [
    "**Single image inference**"
   ]
  },
  {
   "cell_type": "code",
   "execution_count": null,
   "metadata": {},
   "outputs": [],
   "source": [
    "model = YOLO(\"/mnt/c/Users/Rahul/Desktop/trained models/License_model.pt\")\n",
    "model.predict(source=\"Biswa-_jpg.rf.b79bbd00d55ce91b0d9ce13f9f1d6686.jpg\", save=True)"
   ]
  },
  {
   "cell_type": "code",
   "execution_count": null,
   "metadata": {},
   "outputs": [],
   "source": [
    "model = YOLO(\"/mnt/c/Users/Rahul/Desktop/Document-and-Record-Management/notebooks/YOLOv8/runs/detect/License with SGD , batch 12, img size 600 and patience 6, dropout 0.2 /weights/best.pt\")\n",
    "model.predict(source=\"Biswa-_jpg.rf.b79bbd00d55ce91b0d9ce13f9f1d6686.jpg\", save=True)"
   ]
  },
  {
   "cell_type": "markdown",
   "metadata": {},
   "source": [
    "**Folder inference**"
   ]
  },
  {
   "cell_type": "code",
   "execution_count": 2,
   "metadata": {},
   "outputs": [
    {
     "name": "stdout",
     "output_type": "stream",
     "text": [
      "\n",
      "image 1/1 /mnt/c/Users/Rahul/Desktop/Test/License/fb.jpg: 512x384 1 address, 1 blood_group, 1 citizenship_number, 1 contact_number, 1 dob, 1 document_type, 1 father_name, 1 license_category, 1 license_number, 1 name, 48.3ms\n",
      "Speed: 1.6ms preprocess, 48.3ms inference, 123.8ms postprocess per image at shape (1, 3, 512, 384)\n",
      "Results saved to \u001b[1mruns/detect/predict9\u001b[0m\n",
      "\n",
      "image 1/1 /mnt/c/Users/Rahul/Desktop/Test/License/front and back.jpg: 512x384 1 address, 1 blood_group, 1 citizenship_number, 1 contact_number, 1 dob, 1 document_type, 1 father_name, 1 license_category, 1 license_number, 1 name, 11.6ms\n",
      "Speed: 1.6ms preprocess, 11.6ms inference, 1.3ms postprocess per image at shape (1, 3, 512, 384)\n",
      "Results saved to \u001b[1mruns/detect/predict9\u001b[0m\n",
      "\n",
      "image 1/1 /mnt/c/Users/Rahul/Desktop/Test/License/kalo dhabba.jpg: 384x512 1 address, 1 blood_group, 1 citizenship_number, 1 contact_number, 1 document_type, 1 license_category, 1 license_number, 1 name, 56.0ms\n",
      "Speed: 1.7ms preprocess, 56.0ms inference, 1.0ms postprocess per image at shape (1, 3, 384, 512)\n",
      "Results saved to \u001b[1mruns/detect/predict9\u001b[0m\n",
      "\n",
      "image 1/1 /mnt/c/Users/Rahul/Desktop/Test/License/mainali.jpg: 384x512 1 address, 1 blood_group, 1 citizenship_number, 1 contact_number, 1 dob, 1 document_type, 1 father_name, 1 license_category, 1 license_number, 1 name, 26.5ms\n",
      "Speed: 2.1ms preprocess, 26.5ms inference, 3.1ms postprocess per image at shape (1, 3, 384, 512)\n",
      "Results saved to \u001b[1mruns/detect/predict9\u001b[0m\n",
      "\n",
      "image 1/1 /mnt/c/Users/Rahul/Desktop/Test/License/sarthak.jpg: 256x512 1 address, 1 blood_group, 3 citizenship_numbers, 1 contact_number, 2 dobs, 2 document_types, 1 father_name, 1 license_number, 1 name, 60.6ms\n",
      "Speed: 3.5ms preprocess, 60.6ms inference, 1.1ms postprocess per image at shape (1, 3, 256, 512)\n",
      "Results saved to \u001b[1mruns/detect/predict9\u001b[0m\n",
      "\n",
      "image 1/1 /mnt/c/Users/Rahul/Desktop/Test/License/test again.jpg: 256x512 1 address, 1 citizenship_number, 1 contact_number, 1 dob, 1 father_name, 1 license_category, 1 license_number, 1 name, 29.2ms\n",
      "Speed: 1.1ms preprocess, 29.2ms inference, 1.3ms postprocess per image at shape (1, 3, 256, 512)\n",
      "Results saved to \u001b[1mruns/detect/predict9\u001b[0m\n",
      "\n",
      "image 1/1 /mnt/c/Users/Rahul/Desktop/Test/License/test hai bhay.jpg: 320x512 1 address, 1 blood_group, 1 citizenship_number, 1 contact_number, 1 dob, 1 document_type, 1 father_name, 1 license_category, 1 license_number, 1 name, 59.9ms\n",
      "Speed: 3.2ms preprocess, 59.9ms inference, 1.5ms postprocess per image at shape (1, 3, 320, 512)\n",
      "Results saved to \u001b[1mruns/detect/predict9\u001b[0m\n",
      "\n",
      "image 1/1 /mnt/c/Users/Rahul/Desktop/Test/License/test.jpg: 384x512 1 address, 1 blood_group, 1 citizenship_number, 1 contact_number, 1 dob, 1 document_type, 1 father_name, 1 license_category, 1 license_number, 1 name, 14.0ms\n",
      "Speed: 1.3ms preprocess, 14.0ms inference, 1.8ms postprocess per image at shape (1, 3, 384, 512)\n",
      "Results saved to \u001b[1mruns/detect/predict9\u001b[0m\n"
     ]
    }
   ],
   "source": [
    "import os\n",
    "from ultralytics import YOLO\n",
    "\n",
    "model = YOLO(\"/mnt/c/Users/Rahul/Desktop/trained models/License_model.pt\")\n",
    "folder_path = \"/mnt/c/Users/Rahul/Desktop/Test/License\"\n",
    "\n",
    "for image_name in os.listdir(folder_path):\n",
    "    if image_name.lower().endswith(('.png', '.jpg', '.jpeg')):\n",
    "        image_path = os.path.join(folder_path, image_name)\n",
    "        model.predict(source=image_path, save=True)\n"
   ]
  },
  {
   "cell_type": "code",
   "execution_count": 3,
   "metadata": {},
   "outputs": [
    {
     "name": "stdout",
     "output_type": "stream",
     "text": [
      "\n",
      "image 1/1 /mnt/c/Users/Rahul/Desktop/Test/License/fb.jpg: 608x480 1 citizenship_number, 1 contact_number, 1 dob, 1 license_number, 2 names, 54.0ms\n",
      "Speed: 1.6ms preprocess, 54.0ms inference, 2.0ms postprocess per image at shape (1, 3, 608, 480)\n",
      "Results saved to \u001b[1mruns/detect/predict10\u001b[0m\n",
      "\n",
      "image 1/1 /mnt/c/Users/Rahul/Desktop/Test/License/front and back.jpg: 608x448 1 citizenship_number, 1 contact_number, 1 dob, 45.7ms\n",
      "Speed: 3.1ms preprocess, 45.7ms inference, 2.6ms postprocess per image at shape (1, 3, 608, 448)\n",
      "Results saved to \u001b[1mruns/detect/predict10\u001b[0m\n",
      "\n",
      "image 1/1 /mnt/c/Users/Rahul/Desktop/Test/License/kalo dhabba.jpg: 480x608 1 citizenship_number, 3 contact_numbers, 3 dobs, 1 name, 69.7ms\n",
      "Speed: 2.2ms preprocess, 69.7ms inference, 1.4ms postprocess per image at shape (1, 3, 480, 608)\n",
      "Results saved to \u001b[1mruns/detect/predict10\u001b[0m\n",
      "\n",
      "image 1/1 /mnt/c/Users/Rahul/Desktop/Test/License/mainali.jpg: 480x608 1 citizenship_number, 1 contact_number, 1 dob, 26.1ms\n",
      "Speed: 2.7ms preprocess, 26.1ms inference, 3.5ms postprocess per image at shape (1, 3, 480, 608)\n",
      "Results saved to \u001b[1mruns/detect/predict10\u001b[0m\n",
      "\n",
      "image 1/1 /mnt/c/Users/Rahul/Desktop/Test/License/sarthak.jpg: 320x608 1 citizenship_number, 2 contact_numbers, 1 dob, 1 license_number, 1 name, 70.6ms\n",
      "Speed: 3.4ms preprocess, 70.6ms inference, 1.2ms postprocess per image at shape (1, 3, 320, 608)\n",
      "Results saved to \u001b[1mruns/detect/predict10\u001b[0m\n",
      "\n",
      "image 1/1 /mnt/c/Users/Rahul/Desktop/Test/License/test again.jpg: 288x608 1 citizenship_number, 1 contact_number, 1 dob, 1 license_number, 1 name, 64.9ms\n",
      "Speed: 1.1ms preprocess, 64.9ms inference, 4.4ms postprocess per image at shape (1, 3, 288, 608)\n",
      "Results saved to \u001b[1mruns/detect/predict10\u001b[0m\n",
      "\n",
      "image 1/1 /mnt/c/Users/Rahul/Desktop/Test/License/test hai bhay.jpg: 384x608 1 citizenship_number, 2 contact_numbers, 1 dob, 1 name, 50.3ms\n",
      "Speed: 2.3ms preprocess, 50.3ms inference, 1.1ms postprocess per image at shape (1, 3, 384, 608)\n",
      "Results saved to \u001b[1mruns/detect/predict10\u001b[0m\n",
      "\n",
      "image 1/1 /mnt/c/Users/Rahul/Desktop/Test/License/test.jpg: 480x608 2 citizenship_numbers, 1 contact_number, 2 dobs, 1 license_number, 1 name, 19.5ms\n",
      "Speed: 1.6ms preprocess, 19.5ms inference, 1.6ms postprocess per image at shape (1, 3, 480, 608)\n",
      "Results saved to \u001b[1mruns/detect/predict10\u001b[0m\n"
     ]
    }
   ],
   "source": [
    "import os\n",
    "from ultralytics import YOLO\n",
    "\n",
    "model = YOLO(\"/mnt/c/Users/Rahul/Desktop/Document-and-Record-Management/notebooks/YOLOv8/runs/detect/License with SGD , batch 12, img size 600 and patience 6, dropout 0.2 /weights/best.pt\")\n",
    "folder_path = \"/mnt/c/Users/Rahul/Desktop/Test/License\"\n",
    "\n",
    "for image_name in os.listdir(folder_path):\n",
    "    if image_name.lower().endswith(('.png', '.jpg', '.jpeg')):\n",
    "        image_path = os.path.join(folder_path, image_name)\n",
    "        model.predict(source=image_path, save=True)\n"
   ]
  },
  {
   "cell_type": "code",
   "execution_count": null,
   "metadata": {},
   "outputs": [],
   "source": []
  }
 ],
 "metadata": {
  "kernelspec": {
   "display_name": "docmgmt",
   "language": "python",
   "name": "python3"
  },
  "language_info": {
   "codemirror_mode": {
    "name": "ipython",
    "version": 3
   },
   "file_extension": ".py",
   "mimetype": "text/x-python",
   "name": "python",
   "nbconvert_exporter": "python",
   "pygments_lexer": "ipython3",
   "version": "3.10.14"
  }
 },
 "nbformat": 4,
 "nbformat_minor": 2
}
