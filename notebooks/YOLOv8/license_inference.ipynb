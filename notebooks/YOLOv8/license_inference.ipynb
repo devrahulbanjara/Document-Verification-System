{
 "cells": [
  {
   "cell_type": "code",
   "execution_count": 6,
   "metadata": {},
   "outputs": [],
   "source": [
    "from ultralytics import YOLO\n",
    "import cv2"
   ]
  },
  {
   "cell_type": "markdown",
   "metadata": {},
   "source": [
    "**Single image inference**"
   ]
  },
  {
   "cell_type": "code",
   "execution_count": null,
   "metadata": {},
   "outputs": [],
   "source": [
    "model = YOLO(\"/mnt/c/Users/Rahul/Desktop/trained models/License_model.pt\")\n",
    "model.predict(source=\"/mnt/c/Users/Rahul/Desktop/Docs and Essentials/Confidential License/mylicense.JPG\", save=True)"
   ]
  },
  {
   "cell_type": "code",
   "execution_count": null,
   "metadata": {},
   "outputs": [],
   "source": [
    "model = YOLO(\"/mnt/c/Users/Rahul/Desktop/Document-and-Record-Management/notebooks/YOLOv8/runs/detect/License with SGD , batch 12, img size 600 and patience 6, dropout 0.2 /weights/best.pt\")\n",
    "model.predict(source=\"Biswa-_jpg.rf.b79bbd00d55ce91b0d9ce13f9f1d6686.jpg\", save=True)"
   ]
  },
  {
   "cell_type": "markdown",
   "metadata": {},
   "source": [
    "**Folder inference**"
   ]
  },
  {
   "cell_type": "code",
   "execution_count": 7,
   "metadata": {},
   "outputs": [
    {
     "name": "stdout",
     "output_type": "stream",
     "text": [
      "\n",
      "image 1/1 /mnt/c/Users/Rahul/Desktop/Test/License/fb.jpg: 608x480 2 citizenship_numbers, 1 contact_number, 1 dob, 1 license_number, 1 name, 61.4ms\n",
      "Speed: 12.2ms preprocess, 61.4ms inference, 40.7ms postprocess per image at shape (1, 3, 608, 480)\n",
      "Results saved to \u001b[1mruns/detect/predict6\u001b[0m\n",
      "\n",
      "image 1/1 /mnt/c/Users/Rahul/Desktop/Test/License/front and back.jpg: 608x448 4 citizenship_numbers, 3 contact_numbers, 1 dob, 1 license_number, 3 names, 81.3ms\n",
      "Speed: 2.5ms preprocess, 81.3ms inference, 6.6ms postprocess per image at shape (1, 3, 608, 448)\n",
      "Results saved to \u001b[1mruns/detect/predict6\u001b[0m\n",
      "\n",
      "image 1/1 /mnt/c/Users/Rahul/Desktop/Test/License/kalo dhabba.jpg: 480x608 1 citizenship_number, 1 contact_number, 1 dob, 2 license_numbers, 1 name, 43.8ms\n",
      "Speed: 1.5ms preprocess, 43.8ms inference, 3.9ms postprocess per image at shape (1, 3, 480, 608)\n",
      "Results saved to \u001b[1mruns/detect/predict6\u001b[0m\n",
      "\n",
      "image 1/1 /mnt/c/Users/Rahul/Desktop/Test/License/mainali.jpg: 480x608 1 citizenship_number, 2 contact_numbers, 2 dobs, 1 license_number, 1 name, 19.6ms\n",
      "Speed: 1.7ms preprocess, 19.6ms inference, 1.4ms postprocess per image at shape (1, 3, 480, 608)\n",
      "Results saved to \u001b[1mruns/detect/predict6\u001b[0m\n",
      "\n",
      "image 1/1 /mnt/c/Users/Rahul/Desktop/Test/License/sarthak.jpg: 320x608 2 citizenship_numbers, 1 contact_number, 3 dobs, 1 license_number, 1 name, 44.8ms\n",
      "Speed: 3.8ms preprocess, 44.8ms inference, 1.8ms postprocess per image at shape (1, 3, 320, 608)\n",
      "Results saved to \u001b[1mruns/detect/predict6\u001b[0m\n",
      "\n",
      "image 1/1 /mnt/c/Users/Rahul/Desktop/Test/License/test again.jpg: 288x608 1 citizenship_number, 1 contact_number, 1 dob, 1 license_number, 1 name, 59.7ms\n",
      "Speed: 3.0ms preprocess, 59.7ms inference, 3.0ms postprocess per image at shape (1, 3, 288, 608)\n",
      "Results saved to \u001b[1mruns/detect/predict6\u001b[0m\n",
      "\n",
      "image 1/1 /mnt/c/Users/Rahul/Desktop/Test/License/test hai bhay.jpg: 384x608 1 citizenship_number, 2 contact_numbers, 1 dob, 1 license_number, 2 names, 112.4ms\n",
      "Speed: 1.7ms preprocess, 112.4ms inference, 6.3ms postprocess per image at shape (1, 3, 384, 608)\n",
      "Results saved to \u001b[1mruns/detect/predict6\u001b[0m\n",
      "\n",
      "image 1/1 /mnt/c/Users/Rahul/Desktop/Test/License/test.jpg: 480x608 1 citizenship_number, 1 contact_number, 1 dob, 1 license_number, 1 name, 41.1ms\n",
      "Speed: 3.6ms preprocess, 41.1ms inference, 1.3ms postprocess per image at shape (1, 3, 480, 608)\n",
      "Results saved to \u001b[1mruns/detect/predict6\u001b[0m\n"
     ]
    }
   ],
   "source": [
    "import os\n",
    "from ultralytics import YOLO\n",
    "\n",
    "model = YOLO(\"/mnt/c/Users/Rahul/Desktop/Document-and-Record-Management/notebooks/YOLOv8/runs/detect/augmented augmented fake with large model with patience 4, img 600, SGD,  dropout 0.4 , batch 122/weights/best.pt\")\n",
    "folder_path = \"/mnt/c/Users/Rahul/Desktop/Test/License\"\n",
    "\n",
    "for image_name in os.listdir(folder_path):\n",
    "    if image_name.lower().endswith(('.png', '.jpg', '.jpeg')):\n",
    "        image_path = os.path.join(folder_path, image_name)\n",
    "        model.predict(source=image_path, save=True)\n"
   ]
  },
  {
   "cell_type": "code",
   "execution_count": null,
   "metadata": {},
   "outputs": [],
   "source": [
    "import os\n",
    "from ultralytics import YOLO\n",
    "\n",
    "model = YOLO(\"/mnt/c/Users/Rahul/Desktop/Document-and-Record-Management/notebooks/YOLOv8/runs/detect/Real + thorai fake with large model with patience 4, img 600, SGD,  dropout 0.4 , batch 12/weights/best.pt\")\n",
    "folder_path = \"/mnt/c/Users/Rahul/Desktop/Test/License\"\n",
    "\n",
    "for image_name in os.listdir(folder_path):\n",
    "    if image_name.lower().endswith(('.png', '.jpg', '.jpeg')):\n",
    "        image_path = os.path.join(folder_path, image_name)\n",
    "        model.predict(source=image_path, save=True)\n"
   ]
  }
 ],
 "metadata": {
  "kernelspec": {
   "display_name": "docmgmt",
   "language": "python",
   "name": "python3"
  },
  "language_info": {
   "codemirror_mode": {
    "name": "ipython",
    "version": 3
   },
   "file_extension": ".py",
   "mimetype": "text/x-python",
   "name": "python",
   "nbconvert_exporter": "python",
   "pygments_lexer": "ipython3",
   "version": "3.10.14"
  }
 },
 "nbformat": 4,
 "nbformat_minor": 2
}
