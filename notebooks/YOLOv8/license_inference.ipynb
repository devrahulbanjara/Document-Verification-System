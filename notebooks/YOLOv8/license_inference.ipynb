{
 "cells": [
  {
   "cell_type": "code",
   "execution_count": 1,
   "metadata": {},
   "outputs": [],
   "source": [
    "from ultralytics import YOLO"
   ]
  },
  {
   "cell_type": "code",
   "execution_count": 3,
   "metadata": {},
   "outputs": [
    {
     "name": "stdout",
     "output_type": "stream",
     "text": [
      "\n",
      "image 1/1 /mnt/c/Users/Rahul/Desktop/Document-and-Record-Management/notebooks/YOLOv8/license_63_png.rf.296c03a7b61304c4724dfbbb108273ef.jpg: 352x512 1 address, 1 blood_group, 1 citizenship_number, 1 contact_number, 1 dob, 1 document_type, 1 father_name, 1 license_category, 1 license_number, 1 name, 62.9ms\n",
      "Speed: 2.5ms preprocess, 62.9ms inference, 1.3ms postprocess per image at shape (1, 3, 352, 512)\n",
      "Results saved to \u001b[1mruns/detect/predict2\u001b[0m\n"
     ]
    },
    {
     "data": {
      "text/plain": [
       "[ultralytics.engine.results.Results object with attributes:\n",
       " \n",
       " boxes: ultralytics.engine.results.Boxes object\n",
       " keypoints: None\n",
       " masks: None\n",
       " names: {0: 'address', 1: 'blood_group', 2: 'citizenship_number', 3: 'contact_number', 4: 'dob', 5: 'document_type', 6: 'father_name', 7: 'license_category', 8: 'license_number', 9: 'name'}\n",
       " obb: None\n",
       " orig_img: array([[[203, 203, 203],\n",
       "         [200, 200, 200],\n",
       "         [204, 204, 204],\n",
       "         ...,\n",
       "         [234, 234, 234],\n",
       "         [236, 236, 236],\n",
       "         [236, 236, 236]],\n",
       " \n",
       "        [[201, 201, 201],\n",
       "         [197, 197, 197],\n",
       "         [196, 196, 196],\n",
       "         ...,\n",
       "         [236, 236, 236],\n",
       "         [240, 240, 240],\n",
       "         [242, 242, 242]],\n",
       " \n",
       "        [[202, 202, 202],\n",
       "         [198, 198, 198],\n",
       "         [192, 192, 192],\n",
       "         ...,\n",
       "         [239, 239, 239],\n",
       "         [244, 244, 244],\n",
       "         [246, 246, 246]],\n",
       " \n",
       "        ...,\n",
       " \n",
       "        [[122, 122, 122],\n",
       "         [123, 123, 123],\n",
       "         [123, 123, 123],\n",
       "         ...,\n",
       "         [ 51,  51,  51],\n",
       "         [ 53,  53,  53],\n",
       "         [ 55,  55,  55]],\n",
       " \n",
       "        [[122, 122, 122],\n",
       "         [123, 123, 123],\n",
       "         [123, 123, 123],\n",
       "         ...,\n",
       "         [ 49,  49,  49],\n",
       "         [ 51,  51,  51],\n",
       "         [ 53,  53,  53]],\n",
       " \n",
       "        [[122, 122, 122],\n",
       "         [123, 123, 123],\n",
       "         [123, 123, 123],\n",
       "         ...,\n",
       "         [ 47,  47,  47],\n",
       "         [ 49,  49,  49],\n",
       "         [ 50,  50,  50]]], dtype=uint8)\n",
       " orig_shape: (699, 1080)\n",
       " path: '/mnt/c/Users/Rahul/Desktop/Document-and-Record-Management/notebooks/YOLOv8/license_63_png.rf.296c03a7b61304c4724dfbbb108273ef.jpg'\n",
       " probs: None\n",
       " save_dir: 'runs/detect/predict2'\n",
       " speed: {'preprocess': 2.5060176849365234, 'inference': 62.85715103149414, 'postprocess': 1.2664794921875}]"
      ]
     },
     "execution_count": 3,
     "metadata": {},
     "output_type": "execute_result"
    }
   ],
   "source": [
    "model = YOLO(\"/mnt/c/Users/Rahul/Desktop/trained models/License_model.pt\")\n",
    "model.predict(source=\"license_63_png.rf.296c03a7b61304c4724dfbbb108273ef.jpg\", save=True)"
   ]
  },
  {
   "cell_type": "code",
   "execution_count": null,
   "metadata": {},
   "outputs": [],
   "source": []
  }
 ],
 "metadata": {
  "kernelspec": {
   "display_name": "docmgmt",
   "language": "python",
   "name": "python3"
  },
  "language_info": {
   "codemirror_mode": {
    "name": "ipython",
    "version": 3
   },
   "file_extension": ".py",
   "mimetype": "text/x-python",
   "name": "python",
   "nbconvert_exporter": "python",
   "pygments_lexer": "ipython3",
   "version": "3.10.14"
  }
 },
 "nbformat": 4,
 "nbformat_minor": 2
}
