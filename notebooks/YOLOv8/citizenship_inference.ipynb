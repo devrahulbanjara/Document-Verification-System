{
 "cells": [
  {
   "cell_type": "code",
   "execution_count": 1,
   "metadata": {},
   "outputs": [],
   "source": [
    "from ultralytics import YOLO\n",
    "import cv2"
   ]
  },
  {
   "cell_type": "markdown",
   "metadata": {},
   "source": [
    "**Single image inference**"
   ]
  },
  {
   "cell_type": "code",
   "execution_count": null,
   "metadata": {},
   "outputs": [],
   "source": [
    "model = YOLO(\"/mnt/c/Users/Rahul/Desktop/trained models/Citizenship_model.pt\")\n",
    "model.predict(source=\"Biswa-_jpg.rf.b79bbd00d55ce91b0d9ce13f9f1d6686.jpg\", save=True)"
   ]
  },
  {
   "cell_type": "markdown",
   "metadata": {},
   "source": [
    "**Folder inference**"
   ]
  },
  {
   "cell_type": "code",
   "execution_count": 2,
   "metadata": {},
   "outputs": [
    {
     "name": "stdout",
     "output_type": "stream",
     "text": [
      "\n",
      "image 1/1 /mnt/c/Users/Rahul/Desktop/Test/Citizenship/aayush.jpg: 480x640 1 citizenship_number, 1 day, 1 district, 1 document_type, 1 father_name, 1 gender, 1 month, 1 municipality, 1 name, 1 ward, 1 year, 55.8ms\n",
      "Speed: 4.0ms preprocess, 55.8ms inference, 127.0ms postprocess per image at shape (1, 3, 480, 640)\n",
      "Results saved to \u001b[1mruns/detect/predict8\u001b[0m\n",
      "\n",
      "image 1/1 /mnt/c/Users/Rahul/Desktop/Test/Citizenship/ajit.jpg: 480x640 1 citizenship_number, 1 day, 1 district, 1 document_type, 1 father_name, 1 gender, 1 month, 1 municipality, 1 name, 1 ward, 1 year, 11.5ms\n",
      "Speed: 2.2ms preprocess, 11.5ms inference, 1.4ms postprocess per image at shape (1, 3, 480, 640)\n",
      "Results saved to \u001b[1mruns/detect/predict8\u001b[0m\n",
      "\n",
      "image 1/1 /mnt/c/Users/Rahul/Desktop/Test/Citizenship/diwas.jpg: 448x640 1 day, 1 district, 1 document_type, 1 month, 1 municipality, 2 wards, 1 year, 45.5ms\n",
      "Speed: 1.7ms preprocess, 45.5ms inference, 2.4ms postprocess per image at shape (1, 3, 448, 640)\n",
      "Results saved to \u001b[1mruns/detect/predict8\u001b[0m\n",
      "\n",
      "image 1/1 /mnt/c/Users/Rahul/Desktop/Test/Citizenship/durgesh.jpg: 448x640 1 citizenship_number, 1 day, 1 district, 1 document_type, 1 father_name, 1 gender, 1 month, 1 municipality, 1 name, 1 ward, 1 year, 10.5ms\n",
      "Speed: 1.8ms preprocess, 10.5ms inference, 1.2ms postprocess per image at shape (1, 3, 448, 640)\n",
      "Results saved to \u001b[1mruns/detect/predict8\u001b[0m\n",
      "\n",
      "image 1/1 /mnt/c/Users/Rahul/Desktop/Test/Citizenship/ishan.jpg: 480x640 1 citizenship_number, 1 day, 1 district, 1 document_type, 1 father_name, 1 gender, 1 month, 1 municipality, 1 name, 1 ward, 1 year, 13.6ms\n",
      "Speed: 2.8ms preprocess, 13.6ms inference, 1.2ms postprocess per image at shape (1, 3, 480, 640)\n",
      "Results saved to \u001b[1mruns/detect/predict8\u001b[0m\n",
      "\n",
      "image 1/1 /mnt/c/Users/Rahul/Desktop/Test/Citizenship/laxmi.jpg: 640x288 1 citizenship_number, 1 day, 2 districts, 1 document_type, 1 father_name, 1 gender, 2 months, 1 municipality, 1 name, 1 ward, 2 years, 42.2ms\n",
      "Speed: 2.0ms preprocess, 42.2ms inference, 2.2ms postprocess per image at shape (1, 3, 640, 288)\n",
      "Results saved to \u001b[1mruns/detect/predict8\u001b[0m\n",
      "\n",
      "image 1/1 /mnt/c/Users/Rahul/Desktop/Test/Citizenship/nikita.jpg: 480x640 1 citizenship_number, 1 district, 1 document_type, 1 father_name, 1 gender, 1 municipality, 1 name, 1 ward, 1 year, 17.8ms\n",
      "Speed: 1.8ms preprocess, 17.8ms inference, 2.4ms postprocess per image at shape (1, 3, 480, 640)\n",
      "Results saved to \u001b[1mruns/detect/predict8\u001b[0m\n",
      "\n",
      "image 1/1 /mnt/c/Users/Rahul/Desktop/Test/Citizenship/pratikshya.jpg: 480x640 1 citizenship_number, 1 day, 1 document_type, 1 father_name, 1 gender, 1 month, 1 municipality, 2 wards, 1 year, 16.9ms\n",
      "Speed: 3.4ms preprocess, 16.9ms inference, 3.0ms postprocess per image at shape (1, 3, 480, 640)\n",
      "Results saved to \u001b[1mruns/detect/predict8\u001b[0m\n",
      "\n",
      "image 1/1 /mnt/c/Users/Rahul/Desktop/Test/Citizenship/priti.jpg: 288x640 1 citizenship_number, 1 day, 1 district, 1 document_type, 1 father_name, 1 gender, 1 month, 1 municipality, 1 name, 1 ward, 1 year, 42.4ms\n",
      "Speed: 2.2ms preprocess, 42.4ms inference, 1.3ms postprocess per image at shape (1, 3, 288, 640)\n",
      "Results saved to \u001b[1mruns/detect/predict8\u001b[0m\n",
      "\n",
      "image 1/1 /mnt/c/Users/Rahul/Desktop/Test/Citizenship/samrat.jpg: 640x640 1 citizenship_number, 1 day, 1 district, 1 document_type, 1 father_name, 1 gender, 1 month, 1 municipality, 1 name, 1 ward, 1 year, 16.0ms\n",
      "Speed: 2.1ms preprocess, 16.0ms inference, 1.6ms postprocess per image at shape (1, 3, 640, 640)\n",
      "Results saved to \u001b[1mruns/detect/predict8\u001b[0m\n",
      "\n",
      "image 1/1 /mnt/c/Users/Rahul/Desktop/Test/Citizenship/sarthak.jpg: 640x480 1 citizenship_number, 1 document_type, 1 father_name, 1 month, 1 municipality, 1 name, 1 year, 72.6ms\n",
      "Speed: 1.6ms preprocess, 72.6ms inference, 1.3ms postprocess per image at shape (1, 3, 640, 480)\n",
      "Results saved to \u001b[1mruns/detect/predict8\u001b[0m\n",
      "\n",
      "image 1/1 /mnt/c/Users/Rahul/Desktop/Test/Citizenship/subham.jpg: 480x640 1 citizenship_number, 1 day, 1 district, 1 document_type, 1 father_name, 1 gender, 1 month, 1 municipality, 1 name, 1 ward, 1 year, 18.5ms\n",
      "Speed: 2.0ms preprocess, 18.5ms inference, 2.0ms postprocess per image at shape (1, 3, 480, 640)\n",
      "Results saved to \u001b[1mruns/detect/predict8\u001b[0m\n",
      "\n",
      "image 1/1 /mnt/c/Users/Rahul/Desktop/Test/Citizenship/subodh.jpg: 640x480 1 citizenship_number, 1 day, 1 district, 1 document_type, 1 father_name, 1 gender, 1 month, 1 municipality, 1 name, 1 ward, 1 year, 13.4ms\n",
      "Speed: 1.9ms preprocess, 13.4ms inference, 2.2ms postprocess per image at shape (1, 3, 640, 480)\n",
      "Results saved to \u001b[1mruns/detect/predict8\u001b[0m\n",
      "\n",
      "image 1/1 /mnt/c/Users/Rahul/Desktop/Test/Citizenship/Susmita Malla front.jpg: 512x640 1 citizenship_number, 1 district, 1 document_type, 1 father_name, 2 months, 1 municipality, 1 name, 1 ward, 1 year, 44.7ms\n",
      "Speed: 2.4ms preprocess, 44.7ms inference, 1.6ms postprocess per image at shape (1, 3, 512, 640)\n",
      "Results saved to \u001b[1mruns/detect/predict8\u001b[0m\n"
     ]
    }
   ],
   "source": [
    "import os\n",
    "from ultralytics import YOLO\n",
    "\n",
    "model = YOLO(\"/mnt/c/Users/Rahul/Desktop/trained models/Citizenship_model.pt\")\n",
    "folder_path = \"/mnt/c/Users/Rahul/Desktop/Test/Citizenship\"\n",
    "\n",
    "for image_name in os.listdir(folder_path):\n",
    "    if image_name.lower().endswith(('.png', '.jpg', '.jpeg')):\n",
    "        image_path = os.path.join(folder_path, image_name)\n",
    "        model.predict(source=image_path, save=True)\n"
   ]
  },
  {
   "cell_type": "code",
   "execution_count": null,
   "metadata": {},
   "outputs": [],
   "source": []
  }
 ],
 "metadata": {
  "kernelspec": {
   "display_name": "docmgmt",
   "language": "python",
   "name": "python3"
  },
  "language_info": {
   "codemirror_mode": {
    "name": "ipython",
    "version": 3
   },
   "file_extension": ".py",
   "mimetype": "text/x-python",
   "name": "python",
   "nbconvert_exporter": "python",
   "pygments_lexer": "ipython3",
   "version": "3.10.14"
  }
 },
 "nbformat": 4,
 "nbformat_minor": 2
}
