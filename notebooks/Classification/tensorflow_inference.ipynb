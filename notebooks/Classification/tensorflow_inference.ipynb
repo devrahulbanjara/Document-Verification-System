{
 "cells": [
  {
   "cell_type": "code",
   "execution_count": null,
   "metadata": {},
   "outputs": [],
   "source": [
    "import matplotlib.pyplot as plt\n",
    "import numpy as np\n",
    "import os\n",
    "import PIL\n",
    "from PIL import Image\n",
    "import tensorflow as tf\n",
    "from tensorflow import keras\n",
    "from tensorflow.keras.callbacks import Callback\n",
    "import random \n",
    "from tensorflow.keras import layers\n",
    "from tensorflow.python.keras.layers import Dense, Flatten\n",
    "from tensorflow.keras.models import Sequential\n",
    "from tensorflow.keras.optimizers import Adam\n",
    "from sklearn.metrics import confusion_matrix\n",
    "import seaborn as sns \n",
    "from tensorflow.keras.callbacks import EarlyStopping, ModelCheckpoint\n",
    "from keras.applications.resnet50 import ResNet50 \n",
    "from keras.applications.resnet50 import preprocess_input\n",
    "from tensorflow.keras.preprocessing.image import ImageDataGenerator\n",
    "from tensorflow.keras.preprocessing import image\n"
   ]
  },
  {
   "cell_type": "code",
   "execution_count": null,
   "metadata": {},
   "outputs": [],
   "source": [
    "classification_model_path = '/mnt/c/Users/Rahul/Desktop/trained models/Classification_model.h5'\n",
    "\n",
    "classification_model = tf.keras.models.load_model(classification_model_path)\n"
   ]
  },
  {
   "cell_type": "code",
   "execution_count": null,
   "metadata": {},
   "outputs": [],
   "source": [
    "img_path= \"\"\n",
    "img = image.load_img(img_path, target_size=(500, 500))\n",
    "img_array = image.img_to_array(img)\n",
    "img_array = np.expand_dims(img_array, axis=0)\n",
    "img_array = preprocess_input(img_array)\n",
    "\n",
    "class_mapping = {\n",
    "    0: 'citizenship',\n",
    "    1: 'license',\n",
    "    2: 'passport',\n",
    "    3: 'others'\n",
    "}\n",
    "\n",
    "predictions = classification_model.predict(img_array)\n",
    "predicted_class_index = np.argmax(predictions, axis=1)[0]\n",
    "confidence = np.max(predictions)\n",
    "\n",
    "predicted_class_label = class_mapping[predicted_class_index]\n",
    "print(f'Predicted class: {predicted_class_label} with confidence: {confidence:.2f}')"
   ]
  }
 ],
 "metadata": {
  "kernelspec": {
   "display_name": "docmgmt",
   "language": "python",
   "name": "python3"
  },
  "language_info": {
   "codemirror_mode": {
    "name": "ipython",
    "version": 3
   },
   "file_extension": ".py",
   "mimetype": "text/x-python",
   "name": "python",
   "nbconvert_exporter": "python",
   "pygments_lexer": "ipython3",
   "version": "3.10.15"
  }
 },
 "nbformat": 4,
 "nbformat_minor": 2
}
