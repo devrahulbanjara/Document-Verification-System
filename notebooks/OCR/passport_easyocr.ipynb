{
 "cells": [
  {
   "cell_type": "code",
   "execution_count": 1,
   "metadata": {},
   "outputs": [
    {
     "name": "stdout",
     "output_type": "stream",
     "text": [
      "\n",
      "image 1/1 /mnt/c/Users/Rahul/Desktop/Document-and-Record-Management/notebooks/YOLOv8/runs/detect/Passport/weights/hajurba.JPG: 800x608 1 citizenship_number, 2 dobs, 2 document_types, 1 name, 2 passport_numbers, 2 surnames, 67.3ms\n",
      "Speed: 4.9ms preprocess, 67.3ms inference, 250.4ms postprocess per image at shape (1, 3, 800, 608)\n"
     ]
    },
    {
     "data": {
      "text/plain": [
       "True"
      ]
     },
     "execution_count": 1,
     "metadata": {},
     "output_type": "execute_result"
    }
   ],
   "source": [
    "import cv2\n",
    "from ultralytics import YOLO\n",
    "import easyocr\n",
    "import os\n",
    "import numpy as np\n",
    "\n",
    "image_path = '/mnt/c/Users/Rahul/Desktop/Test/Passport/a.jpg'\n",
    "model_path = \"/mnt/c/Users/Rahul/Desktop/trained models/withoutdocumenttypw_Passport_model.pt\"\n",
    "\n",
    "model = YOLO(model_path)\n",
    "\n",
    "results = model(image_path)\n",
    "\n",
    "image = cv2.imread(image_path)\n",
    "\n",
    "ocr = easyocr.Reader(['ne', 'en'])\n",
    "\n",
    "class_map = {\n",
    "    0: 'citizenship_number',\n",
    "    1: 'dob',\n",
    "    2: 'document_type',\n",
    "    3: 'name',\n",
    "    4: 'passport_number',\n",
    "    5: 'surname',\n",
    "}\n",
    "\n",
    "def get_color(class_id):\n",
    "    np.random.seed(class_id)\n",
    "    return tuple(np.random.randint(0, 255, 3).tolist())\n",
    "\n",
    "base_name = os.path.splitext(os.path.basename(image_path))[0]\n",
    "\n",
    "output_dir = 'OCR_Outputs'\n",
    "os.makedirs(output_dir, exist_ok=True)\n",
    "\n",
    "output_file_path = os.path.join(output_dir, f'{base_name}_results.txt')\n",
    "\n",
    "with open(output_file_path, 'w') as file:\n",
    "    for result in results:\n",
    "        boxes = result.boxes.xyxy\n",
    "        class_ids = result.boxes.cls\n",
    "\n",
    "        for box, class_id in zip(boxes, class_ids):\n",
    "            x1, y1, x2, y2 = map(int, box.tolist())\n",
    "            \n",
    "            cropped_img = image[y1:y2, x1:x2]\n",
    "\n",
    "            ocr_result = ocr.readtext(cropped_img)\n",
    "\n",
    "            for detection in ocr_result:\n",
    "                text = detection[1]\n",
    "                file.write(f\"Class: {class_map.get(int(class_id), 'Unknown')}, Text: {text}\\n\")\n",
    "                    \n",
    "            color = get_color(int(class_id))\n",
    "            label = class_map.get(int(class_id), 'Unknown')\n",
    "            cv2.rectangle(image, (x1, y1), (x2, y2), color, 2)\n",
    "            cv2.putText(image, label, (x1, y1 - 10), cv2.FONT_HERSHEY_SIMPLEX, 0.9, color, 2)\n",
    "\n",
    "annotated_image_path = os.path.join(output_dir, f'{base_name}_annotated.jpg')\n",
    "cv2.imwrite(annotated_image_path, image)\n"
   ]
  },
  {
   "cell_type": "code",
   "execution_count": null,
   "metadata": {},
   "outputs": [],
   "source": []
  }
 ],
 "metadata": {
  "kernelspec": {
   "display_name": "docmgmt",
   "language": "python",
   "name": "python3"
  },
  "language_info": {
   "codemirror_mode": {
    "name": "ipython",
    "version": 3
   },
   "file_extension": ".py",
   "mimetype": "text/x-python",
   "name": "python",
   "nbconvert_exporter": "python",
   "pygments_lexer": "ipython3",
   "version": "3.10.8"
  }
 },
 "nbformat": 4,
 "nbformat_minor": 2
}
