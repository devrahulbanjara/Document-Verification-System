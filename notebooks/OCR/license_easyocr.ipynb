{
 "cells": [
  {
   "cell_type": "code",
   "execution_count": 1,
   "metadata": {},
   "outputs": [],
   "source": [
    "import cv2\n",
    "from ultralytics import YOLO\n",
    "import easyocr\n",
    "import os\n",
    "import numpy as np"
   ]
  },
  {
   "cell_type": "code",
   "execution_count": 2,
   "metadata": {},
   "outputs": [],
   "source": [
    "image_path = '/mnt/c/Users/Rahul/Desktop/Test/License/front and back.jpg'\n",
    "model_path = \"/mnt/c/Users/Rahul/Desktop/trained models/License_model.pt\""
   ]
  },
  {
   "cell_type": "code",
   "execution_count": 3,
   "metadata": {},
   "outputs": [
    {
     "name": "stdout",
     "output_type": "stream",
     "text": [
      "\n",
      "image 1/1 /mnt/c/Users/Rahul/Desktop/Test/License/front and back.jpg: 512x384 1 address, 1 blood_group, 1 citizenship_number, 1 contact_number, 1 dob, 1 document_type, 1 father_name, 1 license_category, 1 license_number, 1 name, 42.5ms\n",
      "Speed: 2.0ms preprocess, 42.5ms inference, 64.2ms postprocess per image at shape (1, 3, 512, 384)\n"
     ]
    }
   ],
   "source": [
    "model = YOLO(model_path)\n",
    "results = model(image_path)\n",
    "image = cv2.imread(image_path)\n",
    "ocr = easyocr.Reader(['ne', 'en'])"
   ]
  },
  {
   "cell_type": "code",
   "execution_count": 4,
   "metadata": {},
   "outputs": [],
   "source": [
    "class_map = {\n",
    "    0: 'citizenship_number',\n",
    "    1: 'contact_number',\n",
    "    2: 'dob',\n",
    "    3: 'license_number',\n",
    "    4: 'name'\n",
    "}\n"
   ]
  },
  {
   "cell_type": "code",
   "execution_count": 5,
   "metadata": {},
   "outputs": [],
   "source": [
    "def get_color(class_id):\n",
    "    np.random.seed(class_id)\n",
    "    return tuple(np.random.randint(0, 255, 3).tolist())"
   ]
  },
  {
   "cell_type": "code",
   "execution_count": 6,
   "metadata": {},
   "outputs": [],
   "source": [
    "base_name = os.path.splitext(os.path.basename(image_path))[0]\n",
    "output_dir = 'OCR_Outputs'\n",
    "os.makedirs(output_dir, exist_ok=True)\n",
    "output_file_path = os.path.join(output_dir, f'{base_name}_results.txt')\n",
    "\n",
    "collected_texts = {label: [] for label in class_map.values()}"
   ]
  },
  {
   "cell_type": "code",
   "execution_count": 7,
   "metadata": {},
   "outputs": [
    {
     "ename": "KeyError",
     "evalue": "'Unknown'",
     "output_type": "error",
     "traceback": [
      "\u001b[0;31m---------------------------------------------------------------------------\u001b[0m",
      "\u001b[0;31mKeyError\u001b[0m                                  Traceback (most recent call last)",
      "Cell \u001b[0;32mIn[7], line 13\u001b[0m\n\u001b[1;32m     11\u001b[0m     text \u001b[38;5;241m=\u001b[39m detection[\u001b[38;5;241m1\u001b[39m]\n\u001b[1;32m     12\u001b[0m     label \u001b[38;5;241m=\u001b[39m class_map\u001b[38;5;241m.\u001b[39mget(\u001b[38;5;28mint\u001b[39m(class_id), \u001b[38;5;124m'\u001b[39m\u001b[38;5;124mUnknown\u001b[39m\u001b[38;5;124m'\u001b[39m)\n\u001b[0;32m---> 13\u001b[0m     \u001b[43mcollected_texts\u001b[49m\u001b[43m[\u001b[49m\u001b[43mlabel\u001b[49m\u001b[43m]\u001b[49m\u001b[38;5;241m.\u001b[39mappend(text)\n\u001b[1;32m     15\u001b[0m color \u001b[38;5;241m=\u001b[39m get_color(\u001b[38;5;28mint\u001b[39m(class_id))\n\u001b[1;32m     16\u001b[0m cv2\u001b[38;5;241m.\u001b[39mrectangle(image, (x1, y1), (x2, y2), color, \u001b[38;5;241m2\u001b[39m)\n",
      "\u001b[0;31mKeyError\u001b[0m: 'Unknown'"
     ]
    }
   ],
   "source": [
    "for result in results:\n",
    "    boxes = result.boxes.xyxy\n",
    "    class_ids = result.boxes.cls\n",
    "\n",
    "    for box, class_id in zip(boxes, class_ids):\n",
    "        x1, y1, x2, y2 = map(int, box.tolist())\n",
    "        cropped_img = image[y1:y2, x1:x2]\n",
    "\n",
    "        ocr_result = ocr.readtext(cropped_img)\n",
    "        for detection in ocr_result:\n",
    "            text = detection[1]\n",
    "            label = class_map.get(int(class_id), 'Unknown')\n",
    "            collected_texts[label].append(text)\n",
    "            \n",
    "        color = get_color(int(class_id))\n",
    "        cv2.rectangle(image, (x1, y1), (x2, y2), color, 2)\n",
    "        cv2.putText(image, label, (x1, y1 - 10), cv2.FONT_HERSHEY_SIMPLEX, 0.9, color, 2)"
   ]
  },
  {
   "cell_type": "code",
   "execution_count": null,
   "metadata": {},
   "outputs": [],
   "source": [
    "\n",
    "with open(output_file_path, 'w') as file:\n",
    "    for label, texts in collected_texts.items():\n",
    "        combined_text = ' '.join(texts)\n",
    "        if combined_text:\n",
    "            file.write(f\"Class: {label}, Text: {combined_text}\\n\")\n",
    "\n",
    "annotated_image_path = os.path.join(output_dir, f'{base_name}_annotated.jpg')\n",
    "cv2.imwrite(annotated_image_path, image)"
   ]
  }
 ],
 "metadata": {
  "kernelspec": {
   "display_name": "docmgmt",
   "language": "python",
   "name": "python3"
  },
  "language_info": {
   "codemirror_mode": {
    "name": "ipython",
    "version": 3
   },
   "file_extension": ".py",
   "mimetype": "text/x-python",
   "name": "python",
   "nbconvert_exporter": "python",
   "pygments_lexer": "ipython3",
   "version": "3.10.14"
  }
 },
 "nbformat": 4,
 "nbformat_minor": 2
}
