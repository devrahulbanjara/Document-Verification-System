{
 "cells": [
  {
   "cell_type": "code",
   "execution_count": 29,
   "metadata": {},
   "outputs": [],
   "source": [
    "import cv2\n",
    "from ultralytics import YOLO\n",
    "import easyocr\n",
    "import os\n",
    "import numpy as np"
   ]
  },
  {
   "cell_type": "code",
   "execution_count": 30,
   "metadata": {},
   "outputs": [],
   "source": [
    "\n",
    "image_path = ''\n",
    "model_path = \"\""
   ]
  },
  {
   "cell_type": "code",
   "execution_count": null,
   "metadata": {},
   "outputs": [],
   "source": [
    "model = YOLO(model_path)\n",
    "results = model(image_path)\n",
    "image = cv2.imread(image_path)\n",
    "ocr = easyocr.Reader(['ne', 'en'])"
   ]
  },
  {
   "cell_type": "code",
   "execution_count": 32,
   "metadata": {},
   "outputs": [],
   "source": [
    "class_map = {\n",
    "    0: 'citizenship_number',\n",
    "    1: 'district',\n",
    "    2: 'gender',\n",
    "    3: 'name',\n",
    "    4: 'year'\n",
    "}\n"
   ]
  },
  {
   "cell_type": "code",
   "execution_count": 33,
   "metadata": {},
   "outputs": [],
   "source": [
    "def get_color(class_id):\n",
    "    np.random.seed(class_id)\n",
    "    return tuple(np.random.randint(0, 255, 3).tolist())"
   ]
  },
  {
   "cell_type": "code",
   "execution_count": 34,
   "metadata": {},
   "outputs": [],
   "source": [
    "base_name = os.path.splitext(os.path.basename(image_path))[0]\n",
    "output_dir = 'OCR_Outputs'\n",
    "os.makedirs(output_dir, exist_ok=True)\n",
    "output_file_path = os.path.join(output_dir, f'{base_name}_results.txt')\n",
    "\n",
    "collected_texts = {label: [] for label in class_map.values()}"
   ]
  },
  {
   "cell_type": "code",
   "execution_count": 35,
   "metadata": {},
   "outputs": [],
   "source": [
    "for result in results:\n",
    "    boxes = result.boxes.xyxy\n",
    "    class_ids = result.boxes.cls\n",
    "\n",
    "    for box, class_id in zip(boxes, class_ids):\n",
    "        x1, y1, x2, y2 = map(int, box.tolist())\n",
    "        cropped_img = image[y1:y2, x1:x2]\n",
    "\n",
    "        ocr_result = ocr.readtext(cropped_img)\n",
    "        for detection in ocr_result:\n",
    "            text = detection[1]\n",
    "            label = class_map.get(int(class_id), 'Unknown')\n",
    "            collected_texts[label].append(text)\n",
    "            \n",
    "        color = get_color(int(class_id))\n",
    "        cv2.rectangle(image, (x1, y1), (x2, y2), color, 2)\n",
    "        cv2.putText(image, label, (x1, y1 - 10), cv2.FONT_HERSHEY_SIMPLEX, 0.9, color, 2)"
   ]
  },
  {
   "cell_type": "code",
   "execution_count": null,
   "metadata": {},
   "outputs": [],
   "source": [
    "\n",
    "with open(output_file_path, 'w') as file:\n",
    "    for label, texts in collected_texts.items():\n",
    "        combined_text = ' '.join(texts)\n",
    "        if combined_text:\n",
    "            file.write(f\"Class: {label}, Text: {combined_text}\\n\")\n",
    "\n",
    "annotated_image_path = os.path.join(output_dir, f'{base_name}_annotated.jpg')\n",
    "cv2.imwrite(annotated_image_path, image)"
   ]
  }
 ],
 "metadata": {
  "kernelspec": {
   "display_name": "docmgmt",
   "language": "python",
   "name": "python3"
  },
  "language_info": {
   "codemirror_mode": {
    "name": "ipython",
    "version": 3
   },
   "file_extension": ".py",
   "mimetype": "text/x-python",
   "name": "python",
   "nbconvert_exporter": "python",
   "pygments_lexer": "ipython3",
   "version": "3.10.14"
  }
 },
 "nbformat": 4,
 "nbformat_minor": 2
}
